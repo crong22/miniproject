{
 "cells": [
  {
   "cell_type": "markdown",
   "metadata": {
    "id": "mTt7qGUTCcFs"
   },
   "source": [
    "# Mobile 고객 이탈 분석"
   ]
  },
  {
   "cell_type": "markdown",
   "metadata": {
    "id": "0wuYJKZHjA3d"
   },
   "source": [
    "![](https://d18lkz4dllo6v2.cloudfront.net/cumulus_uploads/entry/23964/mobile%20phones.png)"
   ]
  },
  {
   "cell_type": "markdown",
   "metadata": {
    "id": "AHmt88Q5EVsj"
   },
   "source": [
    "## 0.환경설정"
   ]
  },
  {
   "cell_type": "markdown",
   "metadata": {
    "id": "KnzVh2LmkLDU"
   },
   "source": [
    "### 1) 라이브러리 로딩"
   ]
  },
  {
   "cell_type": "code",
   "execution_count": 1,
   "metadata": {
    "id": "3rsQerEaELwI"
   },
   "outputs": [],
   "source": [
    "import pandas as pd\n",
    "import numpy as np\n",
    "import matplotlib.pyplot as plt\n",
    "import seaborn as sns\n",
    "\n",
    "from statsmodels.graphics.mosaicplot import mosaic\n",
    "from scipy import stats as spst\n",
    "import statsmodels.api as sm"
   ]
  },
  {
   "cell_type": "markdown",
   "metadata": {
    "id": "5Qh5KYWokO_N"
   },
   "source": [
    "### 2) 데이터 로딩"
   ]
  },
  {
   "cell_type": "code",
   "execution_count": 2,
   "metadata": {
    "id": "lM3HN6OwEL3d",
    "scrolled": true
   },
   "outputs": [
    {
     "data": {
      "text/html": [
       "<div>\n",
       "<style scoped>\n",
       "    .dataframe tbody tr th:only-of-type {\n",
       "        vertical-align: middle;\n",
       "    }\n",
       "\n",
       "    .dataframe tbody tr th {\n",
       "        vertical-align: top;\n",
       "    }\n",
       "\n",
       "    .dataframe thead th {\n",
       "        text-align: right;\n",
       "    }\n",
       "</style>\n",
       "<table border=\"1\" class=\"dataframe\">\n",
       "  <thead>\n",
       "    <tr style=\"text-align: right;\">\n",
       "      <th></th>\n",
       "      <th>COLLEGE</th>\n",
       "      <th>INCOME</th>\n",
       "      <th>OVERAGE</th>\n",
       "      <th>LEFTOVER</th>\n",
       "      <th>HOUSE</th>\n",
       "      <th>HANDSET_PRICE</th>\n",
       "      <th>AVERAGE_CALL_DURATION</th>\n",
       "      <th>REPORTED_SATISFACTION</th>\n",
       "      <th>CONSIDERING_CHANGE_OF_PLAN</th>\n",
       "      <th>CHURN</th>\n",
       "    </tr>\n",
       "  </thead>\n",
       "  <tbody>\n",
       "    <tr>\n",
       "      <th>0</th>\n",
       "      <td>1</td>\n",
       "      <td>47711</td>\n",
       "      <td>183</td>\n",
       "      <td>17</td>\n",
       "      <td>730589.0</td>\n",
       "      <td>192</td>\n",
       "      <td>5</td>\n",
       "      <td>unsat</td>\n",
       "      <td>considering</td>\n",
       "      <td>0</td>\n",
       "    </tr>\n",
       "    <tr>\n",
       "      <th>1</th>\n",
       "      <td>0</td>\n",
       "      <td>74132</td>\n",
       "      <td>191</td>\n",
       "      <td>43</td>\n",
       "      <td>535092.0</td>\n",
       "      <td>349</td>\n",
       "      <td>2</td>\n",
       "      <td>unsat</td>\n",
       "      <td>no</td>\n",
       "      <td>1</td>\n",
       "    </tr>\n",
       "    <tr>\n",
       "      <th>2</th>\n",
       "      <td>1</td>\n",
       "      <td>150419</td>\n",
       "      <td>0</td>\n",
       "      <td>14</td>\n",
       "      <td>204004.0</td>\n",
       "      <td>682</td>\n",
       "      <td>6</td>\n",
       "      <td>unsat</td>\n",
       "      <td>considering</td>\n",
       "      <td>0</td>\n",
       "    </tr>\n",
       "    <tr>\n",
       "      <th>3</th>\n",
       "      <td>0</td>\n",
       "      <td>159567</td>\n",
       "      <td>0</td>\n",
       "      <td>58</td>\n",
       "      <td>281969.0</td>\n",
       "      <td>634</td>\n",
       "      <td>1</td>\n",
       "      <td>very_unsat</td>\n",
       "      <td>never_thought</td>\n",
       "      <td>0</td>\n",
       "    </tr>\n",
       "    <tr>\n",
       "      <th>4</th>\n",
       "      <td>1</td>\n",
       "      <td>23392</td>\n",
       "      <td>0</td>\n",
       "      <td>0</td>\n",
       "      <td>216707.0</td>\n",
       "      <td>233</td>\n",
       "      <td>15</td>\n",
       "      <td>unsat</td>\n",
       "      <td>no</td>\n",
       "      <td>1</td>\n",
       "    </tr>\n",
       "    <tr>\n",
       "      <th>5</th>\n",
       "      <td>1</td>\n",
       "      <td>119591</td>\n",
       "      <td>0</td>\n",
       "      <td>43</td>\n",
       "      <td>231309.0</td>\n",
       "      <td>714</td>\n",
       "      <td>1</td>\n",
       "      <td>very_sat</td>\n",
       "      <td>considering</td>\n",
       "      <td>0</td>\n",
       "    </tr>\n",
       "    <tr>\n",
       "      <th>6</th>\n",
       "      <td>1</td>\n",
       "      <td>99548</td>\n",
       "      <td>235</td>\n",
       "      <td>0</td>\n",
       "      <td>238561.0</td>\n",
       "      <td>294</td>\n",
       "      <td>6</td>\n",
       "      <td>very_unsat</td>\n",
       "      <td>actively_looking_into_it</td>\n",
       "      <td>1</td>\n",
       "    </tr>\n",
       "    <tr>\n",
       "      <th>7</th>\n",
       "      <td>1</td>\n",
       "      <td>63338</td>\n",
       "      <td>50</td>\n",
       "      <td>57</td>\n",
       "      <td>394791.0</td>\n",
       "      <td>362</td>\n",
       "      <td>1</td>\n",
       "      <td>sat</td>\n",
       "      <td>no</td>\n",
       "      <td>0</td>\n",
       "    </tr>\n",
       "    <tr>\n",
       "      <th>8</th>\n",
       "      <td>1</td>\n",
       "      <td>133496</td>\n",
       "      <td>163</td>\n",
       "      <td>11</td>\n",
       "      <td>166179.0</td>\n",
       "      <td>864</td>\n",
       "      <td>5</td>\n",
       "      <td>NaN</td>\n",
       "      <td>actively_looking_into_it</td>\n",
       "      <td>1</td>\n",
       "    </tr>\n",
       "    <tr>\n",
       "      <th>9</th>\n",
       "      <td>1</td>\n",
       "      <td>155145</td>\n",
       "      <td>29</td>\n",
       "      <td>18</td>\n",
       "      <td>717451.0</td>\n",
       "      <td>671</td>\n",
       "      <td>4</td>\n",
       "      <td>unsat</td>\n",
       "      <td>considering</td>\n",
       "      <td>0</td>\n",
       "    </tr>\n",
       "    <tr>\n",
       "      <th>10</th>\n",
       "      <td>0</td>\n",
       "      <td>117558</td>\n",
       "      <td>40</td>\n",
       "      <td>6</td>\n",
       "      <td>403254.0</td>\n",
       "      <td>263</td>\n",
       "      <td>6</td>\n",
       "      <td>very_unsat</td>\n",
       "      <td>considering</td>\n",
       "      <td>0</td>\n",
       "    </tr>\n",
       "    <tr>\n",
       "      <th>11</th>\n",
       "      <td>1</td>\n",
       "      <td>90927</td>\n",
       "      <td>213</td>\n",
       "      <td>84</td>\n",
       "      <td>162266.0</td>\n",
       "      <td>303</td>\n",
       "      <td>2</td>\n",
       "      <td>very_unsat</td>\n",
       "      <td>no</td>\n",
       "      <td>1</td>\n",
       "    </tr>\n",
       "    <tr>\n",
       "      <th>12</th>\n",
       "      <td>1</td>\n",
       "      <td>31749</td>\n",
       "      <td>51</td>\n",
       "      <td>0</td>\n",
       "      <td>388298.0</td>\n",
       "      <td>220</td>\n",
       "      <td>2</td>\n",
       "      <td>very_sat</td>\n",
       "      <td>no</td>\n",
       "      <td>1</td>\n",
       "    </tr>\n",
       "    <tr>\n",
       "      <th>13</th>\n",
       "      <td>0</td>\n",
       "      <td>125511</td>\n",
       "      <td>0</td>\n",
       "      <td>0</td>\n",
       "      <td>162564.0</td>\n",
       "      <td>619</td>\n",
       "      <td>1</td>\n",
       "      <td>very_sat</td>\n",
       "      <td>considering</td>\n",
       "      <td>1</td>\n",
       "    </tr>\n",
       "    <tr>\n",
       "      <th>14</th>\n",
       "      <td>1</td>\n",
       "      <td>39476</td>\n",
       "      <td>0</td>\n",
       "      <td>46</td>\n",
       "      <td>975301.0</td>\n",
       "      <td>132</td>\n",
       "      <td>2</td>\n",
       "      <td>very_sat</td>\n",
       "      <td>actively_looking_into_it</td>\n",
       "      <td>0</td>\n",
       "    </tr>\n",
       "    <tr>\n",
       "      <th>15</th>\n",
       "      <td>0</td>\n",
       "      <td>85246</td>\n",
       "      <td>0</td>\n",
       "      <td>12</td>\n",
       "      <td>864913.0</td>\n",
       "      <td>207</td>\n",
       "      <td>5</td>\n",
       "      <td>very_unsat</td>\n",
       "      <td>actively_looking_into_it</td>\n",
       "      <td>0</td>\n",
       "    </tr>\n",
       "    <tr>\n",
       "      <th>16</th>\n",
       "      <td>0</td>\n",
       "      <td>116680</td>\n",
       "      <td>189</td>\n",
       "      <td>0</td>\n",
       "      <td>212073.0</td>\n",
       "      <td>611</td>\n",
       "      <td>10</td>\n",
       "      <td>very_unsat</td>\n",
       "      <td>considering</td>\n",
       "      <td>1</td>\n",
       "    </tr>\n",
       "    <tr>\n",
       "      <th>17</th>\n",
       "      <td>1</td>\n",
       "      <td>92778</td>\n",
       "      <td>0</td>\n",
       "      <td>0</td>\n",
       "      <td>564412.0</td>\n",
       "      <td>286</td>\n",
       "      <td>9</td>\n",
       "      <td>very_unsat</td>\n",
       "      <td>actively_looking_into_it</td>\n",
       "      <td>0</td>\n",
       "    </tr>\n",
       "    <tr>\n",
       "      <th>18</th>\n",
       "      <td>1</td>\n",
       "      <td>64360</td>\n",
       "      <td>48</td>\n",
       "      <td>19</td>\n",
       "      <td>973489.0</td>\n",
       "      <td>357</td>\n",
       "      <td>5</td>\n",
       "      <td>very_unsat</td>\n",
       "      <td>considering</td>\n",
       "      <td>0</td>\n",
       "    </tr>\n",
       "    <tr>\n",
       "      <th>19</th>\n",
       "      <td>0</td>\n",
       "      <td>89247</td>\n",
       "      <td>93</td>\n",
       "      <td>19</td>\n",
       "      <td>166814.0</td>\n",
       "      <td>253</td>\n",
       "      <td>5</td>\n",
       "      <td>very_sat</td>\n",
       "      <td>considering</td>\n",
       "      <td>0</td>\n",
       "    </tr>\n",
       "  </tbody>\n",
       "</table>\n",
       "</div>"
      ],
      "text/plain": [
       "    COLLEGE  INCOME  OVERAGE  LEFTOVER     HOUSE  HANDSET_PRICE  \\\n",
       "0         1   47711      183        17  730589.0            192   \n",
       "1         0   74132      191        43  535092.0            349   \n",
       "2         1  150419        0        14  204004.0            682   \n",
       "3         0  159567        0        58  281969.0            634   \n",
       "4         1   23392        0         0  216707.0            233   \n",
       "5         1  119591        0        43  231309.0            714   \n",
       "6         1   99548      235         0  238561.0            294   \n",
       "7         1   63338       50        57  394791.0            362   \n",
       "8         1  133496      163        11  166179.0            864   \n",
       "9         1  155145       29        18  717451.0            671   \n",
       "10        0  117558       40         6  403254.0            263   \n",
       "11        1   90927      213        84  162266.0            303   \n",
       "12        1   31749       51         0  388298.0            220   \n",
       "13        0  125511        0         0  162564.0            619   \n",
       "14        1   39476        0        46  975301.0            132   \n",
       "15        0   85246        0        12  864913.0            207   \n",
       "16        0  116680      189         0  212073.0            611   \n",
       "17        1   92778        0         0  564412.0            286   \n",
       "18        1   64360       48        19  973489.0            357   \n",
       "19        0   89247       93        19  166814.0            253   \n",
       "\n",
       "    AVERAGE_CALL_DURATION REPORTED_SATISFACTION CONSIDERING_CHANGE_OF_PLAN  \\\n",
       "0                       5                 unsat                considering   \n",
       "1                       2                 unsat                         no   \n",
       "2                       6                 unsat                considering   \n",
       "3                       1            very_unsat              never_thought   \n",
       "4                      15                 unsat                         no   \n",
       "5                       1              very_sat                considering   \n",
       "6                       6            very_unsat   actively_looking_into_it   \n",
       "7                       1                   sat                         no   \n",
       "8                       5                   NaN   actively_looking_into_it   \n",
       "9                       4                 unsat                considering   \n",
       "10                      6            very_unsat                considering   \n",
       "11                      2            very_unsat                         no   \n",
       "12                      2              very_sat                         no   \n",
       "13                      1              very_sat                considering   \n",
       "14                      2              very_sat   actively_looking_into_it   \n",
       "15                      5            very_unsat   actively_looking_into_it   \n",
       "16                     10            very_unsat                considering   \n",
       "17                      9            very_unsat   actively_looking_into_it   \n",
       "18                      5            very_unsat                considering   \n",
       "19                      5              very_sat                considering   \n",
       "\n",
       "    CHURN  \n",
       "0       0  \n",
       "1       1  \n",
       "2       0  \n",
       "3       0  \n",
       "4       1  \n",
       "5       0  \n",
       "6       1  \n",
       "7       0  \n",
       "8       1  \n",
       "9       0  \n",
       "10      0  \n",
       "11      1  \n",
       "12      1  \n",
       "13      1  \n",
       "14      0  \n",
       "15      0  \n",
       "16      1  \n",
       "17      0  \n",
       "18      0  \n",
       "19      0  "
      ]
     },
     "execution_count": 2,
     "metadata": {},
     "output_type": "execute_result"
    }
   ],
   "source": [
    "# mobile data\n",
    "data_path = \"https://raw.githubusercontent.com/DA4BAM/dataset/master/mobile_NA2.csv\"\n",
    "mobile = pd.read_csv(data_path)\n",
    "mobile.drop(['id', 'REPORTED_USAGE_LEVEL','OVER_15MINS_CALLS_PER_MONTH'], axis = 1, inplace = True)\n",
    "mobile.head(20)"
   ]
  },
  {
   "cell_type": "code",
   "execution_count": 3,
   "metadata": {},
   "outputs": [
    {
     "data": {
      "text/plain": [
       "COLLEGE                         0\n",
       "INCOME                          0\n",
       "OVERAGE                         0\n",
       "LEFTOVER                        0\n",
       "HOUSE                         215\n",
       "HANDSET_PRICE                   0\n",
       "AVERAGE_CALL_DURATION           0\n",
       "REPORTED_SATISFACTION          38\n",
       "CONSIDERING_CHANGE_OF_PLAN      0\n",
       "CHURN                           0\n",
       "dtype: int64"
      ]
     },
     "execution_count": 3,
     "metadata": {},
     "output_type": "execute_result"
    }
   ],
   "source": [
    "mobile.isnull().sum()"
   ]
  },
  {
   "cell_type": "markdown",
   "metadata": {},
   "source": [
    "* 결측치는 HOUSE (집가격,달러) , REPORTED_SATISFACTION (만족도설문,5) "
   ]
  },
  {
   "cell_type": "markdown",
   "metadata": {
    "id": "JtiF310fjmJy"
   },
   "source": [
    "|변수 명|내용|구분|\n",
    "|\t----\t|\t----\t|\t----\t|\n",
    "|\tCOLLEGE\t|\t대학졸업 여부(1,0)\t|\t\t|\n",
    "|\tINCOME\t|\t연 수입액(달러)\t|\t\t|\n",
    "|\tOVERAGE\t|\t월 초과사용 시간(분)\t|\t\t|\n",
    "|\tLEFTOVER\t|\t월 사용 잔여시간(%)\t|\t\t|\n",
    "|\tHOUSE\t|\t집 가격(달러)\t|\t\t|\n",
    "|\tHANDSET_PRICE\t|\t핸드폰 가격(달러)\t|\t\t|\n",
    "|\tAVERAGE_CALL_DURATION\t|\t평균 통화시간(분)\t|\t\t|\n",
    "|\tREPORTED_SATISFACTION\t|\t만족도 설문('very_unsat', 'unsat', 'avg', 'sat', 'very_sat' )\t|\t\t|\n",
    "|\tCONSIDERING_CHANGE_OF_PLAN\t|\t변경 계획 설문('never_thought', 'no', 'perhaps', 'considering',   'actively_looking_into_it')\t|\t\t|\n",
    "|\t**CHURN**\t|\t이탈여부(1 : 이탈, 0 : 잔류)\t|\tLabel\t|\n"
   ]
  },
  {
   "cell_type": "markdown",
   "metadata": {
    "id": "bKimk8qVm8oC"
   },
   "source": [
    "----"
   ]
  },
  {
   "cell_type": "markdown",
   "metadata": {
    "id": "0bouXLxGkSSd"
   },
   "source": [
    "## 1.가설수립"
   ]
  },
  {
   "cell_type": "markdown",
   "metadata": {
    "id": "ydh7lwR6EHuL"
   },
   "source": [
    "* 가설1 : 월 초과사용 시간(숫자)에 따라 이탈여부 차이가 있다."
   ]
  },
  {
   "cell_type": "markdown",
   "metadata": {
    "id": "haK-v6pXEHuL"
   },
   "source": [
    "* 가설2 : 핸드폰 가격(숫자)에 따라 이탈여부 차이가 있다."
   ]
  },
  {
   "cell_type": "markdown",
   "metadata": {
    "id": "bXpNRpDcEHuL"
   },
   "source": [
    "* 가설3 : 연 수입액(숫자)에 따라 이탈여부 차이가 있다."
   ]
  },
  {
   "cell_type": "markdown",
   "metadata": {
    "id": "zvZmmfXOEHuL"
   },
   "source": [
    "* 가설4 : 대학졸업 여부(범주)에 따라 이탈여부 차이가 있다."
   ]
  },
  {
   "cell_type": "markdown",
   "metadata": {
    "id": "b0LB5ArmEHuM"
   },
   "source": [
    "* 가설5 : 만족도(범주)에 따라 이탈여부 차이가 있다."
   ]
  },
  {
   "cell_type": "markdown",
   "metadata": {
    "id": "3kIuQfdJ_i0L"
   },
   "source": [
    "* 가설6 : 변경 계획 설문(범주)에 따라 이탈여부 차이가 있다."
   ]
  },
  {
   "cell_type": "markdown",
   "metadata": {
    "id": "82xzJIZhnAaX"
   },
   "source": [
    "----"
   ]
  },
  {
   "cell_type": "markdown",
   "metadata": {
    "id": "1hYPpnplEedX"
   },
   "source": [
    "## 2.단변량 분석"
   ]
  },
  {
   "cell_type": "markdown",
   "metadata": {
    "id": "BP8iBi7We3AI"
   },
   "source": [
    "### 1) OVERAGE\t"
   ]
  },
  {
   "cell_type": "markdown",
   "metadata": {
    "id": "NRIsridhK3el"
   },
   "source": [
    "① 변수의 비즈니스 의미\n",
    "\n",
    "* 월 초과사용 시간"
   ]
  },
  {
   "cell_type": "markdown",
   "metadata": {
    "id": "LdfsedUEEMP6"
   },
   "source": [
    "② 숫자? 범주?\n",
    "* 숫자"
   ]
  },
  {
   "cell_type": "markdown",
   "metadata": {
    "id": "n53LBx0fEMMs"
   },
   "source": [
    "③ 전처리 사항\n",
    "\n",
    "* NaN 존재 X , 가변수화 대상 X"
   ]
  },
  {
   "cell_type": "markdown",
   "metadata": {},
   "source": [
    "④ 기초통계량"
   ]
  },
  {
   "cell_type": "code",
   "execution_count": 4,
   "metadata": {
    "id": "M-dKqpwTEMJe"
   },
   "outputs": [
    {
     "data": {
      "text/plain": [
       "count    18000.000000\n",
       "mean        86.014833\n",
       "std         85.963981\n",
       "min         -2.000000\n",
       "25%          0.000000\n",
       "50%         59.000000\n",
       "75%        179.000000\n",
       "max        335.000000\n",
       "Name: OVERAGE, dtype: float64"
      ]
     },
     "execution_count": 4,
     "metadata": {},
     "output_type": "execute_result"
    }
   ],
   "source": [
    "mobile['OVERAGE'].describe()"
   ]
  },
  {
   "cell_type": "markdown",
   "metadata": {},
   "source": [
    "⑤ 분포\n"
   ]
  },
  {
   "cell_type": "code",
   "execution_count": 5,
   "metadata": {
    "id": "-67MJSNHEMF6"
   },
   "outputs": [
    {
     "data": {
      "image/png": "[encoded data removed]",
      "text/plain": [
       "<Figure size 432x288 with 1 Axes>"
      ]
     },
     "metadata": {
      "needs_background": "light"
     },
     "output_type": "display_data"
    }
   ],
   "source": [
    "sns.histplot(mobile['OVERAGE'], bins = 20)\n",
    "plt.show()"
   ]
  },
  {
   "cell_type": "code",
   "execution_count": 6,
   "metadata": {},
   "outputs": [
    {
     "data": {
      "image/png": "[encoded data removed]",
      "text/plain": [
       "<Figure size 432x288 with 1 Axes>"
      ]
     },
     "metadata": {
      "needs_background": "light"
     },
     "output_type": "display_data"
    },
    {
     "name": "stdout",
     "output_type": "stream",
     "text": [
      "[ 0. -2.]\n",
      "[179. 335.]\n"
     ]
    }
   ],
   "source": [
    "box = plt.boxplot(mobile['OVERAGE'])\n",
    "plt.show()\n",
    "\n",
    "print(box['whiskers'][0].get_ydata())\n",
    "print(box['whiskers'][1].get_ydata())"
   ]
  },
  {
   "cell_type": "markdown",
   "metadata": {},
   "source": [
    "⑥ 위 정보로부터 파악한 내용(비즈니스!) 정리\n",
    "\n",
    "* 생각보다 초과로 월 초과사용을 하지는 않는다.\n",
    "* 40후반에서 100까지 사용량이 있다가, 150~250까지 다시 증가했다 감소한다.\n",
    "* 150분 부터는 본인도 알고도 사용하는 것 같다고 보인다.\n",
    "  (사용량은 본인이 알텐데 초과로 사용 하는 것을 모르고 저렇게 오래 사용은 안할 것이다.)\n",
    "  (초과사용량은 본인에게 알림이 갈 것이다.)\n"
   ]
  },
  {
   "cell_type": "markdown",
   "metadata": {},
   "source": [
    "⑦ 추가 분석해볼 사항 도출\n",
    "\n",
    "* 0이후 30-100 과 120-260까지 두 개로 나누어 이탈 분석해볼 필요가 있음.\n",
    "* 120 이후는 왜 요금제를 높게 안하고 사용하는지가 궁금하므로, 연수입과 연관되어 분석해볼 필요가 있음."
   ]
  },
  {
   "cell_type": "markdown",
   "metadata": {
    "id": "cYkgwG47evaF"
   },
   "source": [
    "### 2) HANDSET_PRICE\t"
   ]
  },
  {
   "cell_type": "markdown",
   "metadata": {},
   "source": [
    "HANDSET_PRICE"
   ]
  },
  {
   "cell_type": "markdown",
   "metadata": {
    "id": "bUzXvik-Ka88"
   },
   "source": [
    "① 변수의 비즈니스 의미\n",
    "* 핸드폰 가격"
   ]
  },
  {
   "cell_type": "markdown",
   "metadata": {
    "id": "-wJGhdutEPTS"
   },
   "source": [
    "② 숫자? 범주?\n",
    "* 숫자"
   ]
  },
  {
   "cell_type": "markdown",
   "metadata": {
    "id": "_aotNSmkEPQR"
   },
   "source": [
    "③ 전처리 사항\n",
    "* NaN 존재 X, 가변수화 X"
   ]
  },
  {
   "cell_type": "markdown",
   "metadata": {
    "id": "IURgySMwEPNJ"
   },
   "source": [
    "④ 기초통계량"
   ]
  },
  {
   "cell_type": "code",
   "execution_count": 7,
   "metadata": {},
   "outputs": [
    {
     "data": {
      "text/plain": [
       "count    18000.000000\n",
       "mean       390.096667\n",
       "std        214.239639\n",
       "min        130.000000\n",
       "25%        219.000000\n",
       "50%        326.000000\n",
       "75%        536.000000\n",
       "max        899.000000\n",
       "Name: HANDSET_PRICE, dtype: float64"
      ]
     },
     "execution_count": 7,
     "metadata": {},
     "output_type": "execute_result"
    }
   ],
   "source": [
    "mobile['HANDSET_PRICE'].describe()"
   ]
  },
  {
   "cell_type": "markdown",
   "metadata": {
    "id": "wSHuLg0GEPJ0"
   },
   "source": [
    "⑤ 분포"
   ]
  },
  {
   "cell_type": "code",
   "execution_count": 9,
   "metadata": {},
   "outputs": [
    {
     "data": {
      "image/png": "[encoded data removed]",
      "text/plain": [
       "<Figure size 432x288 with 1 Axes>"
      ]
     },
     "metadata": {
      "needs_background": "light"
     },
     "output_type": "display_data"
    }
   ],
   "source": [
    "sns.histplot(mobile['HANDSET_PRICE'], bins = 20)\n",
    "plt.show()"
   ]
  },
  {
   "cell_type": "code",
   "execution_count": 10,
   "metadata": {},
   "outputs": [
    {
     "data": {
      "image/png": "[encoded data removed]",
      "text/plain": [
       "<Figure size 432x288 with 1 Axes>"
      ]
     },
     "metadata": {
      "needs_background": "light"
     },
     "output_type": "display_data"
    },
    {
     "name": "stdout",
     "output_type": "stream",
     "text": [
      "[219. 130.]\n",
      "[536. 899.]\n"
     ]
    }
   ],
   "source": [
    "box = plt.boxplot(mobile['HANDSET_PRICE'])\n",
    "plt.show()\n",
    "\n",
    "print(box['whiskers'][0].get_ydata())\n",
    "print(box['whiskers'][1].get_ydata())"
   ]
  },
  {
   "cell_type": "markdown",
   "metadata": {},
   "source": [
    "⑥ 위 정보로부터 파악한 내용(비즈니스!) 정리\n",
    "* 핸드폰 가격은 100~400달러 까지 밀집 되어있다.\n",
    "* 400 달러 이상 비율은 비슷 하다.\n"
   ]
  },
  {
   "cell_type": "markdown",
   "metadata": {},
   "source": [
    "⑦ 추가 분석해볼 사항 도출\n",
    "\n",
    "* 핸드폰 가격과 연 수입액의 관계가 궁금하다.\n",
    "  (수입액이 적어도 비싼 핸드폰을 사용할지)\n",
    "  (요즘 시대에 없어서는 안될 필수물품인데, 과시용으로 비싼 것을 살지 궁금하다.)\n",
    "* 핸드폰 가격이 달라지면 이탈은 안할지 궁금하다."
   ]
  },
  {
   "cell_type": "markdown",
   "metadata": {
    "id": "UNgJNBEIfB1p"
   },
   "source": [
    "### 3) INCOME"
   ]
  },
  {
   "cell_type": "markdown",
   "metadata": {
    "id": "7FsVbJ_mKi15"
   },
   "source": [
    "① 변수의 비즈니스 의미\n",
    "* 연 수입액"
   ]
  },
  {
   "cell_type": "markdown",
   "metadata": {
    "id": "5bpbg_e7ERk3"
   },
   "source": [
    "② 숫자? 범주?\n",
    "* 숫자"
   ]
  },
  {
   "cell_type": "markdown",
   "metadata": {
    "id": "QYb8bCyrERh_"
   },
   "source": [
    "③ 전처리 사항\n",
    "* NaN 존재X , 가변수화 X"
   ]
  },
  {
   "cell_type": "markdown",
   "metadata": {
    "id": "aELmCKGSERed"
   },
   "source": [
    "④ 기초통계량"
   ]
  },
  {
   "cell_type": "code",
   "execution_count": 25,
   "metadata": {
    "id": "EOpUeelrERbJ"
   },
   "outputs": [
    {
     "data": {
      "text/plain": [
       "count     18000.000000\n",
       "mean      80314.400278\n",
       "std       41703.420130\n",
       "min       20007.000000\n",
       "25%       42151.500000\n",
       "50%       75501.500000\n",
       "75%      116082.250000\n",
       "max      159983.000000\n",
       "Name: INCOME, dtype: float64"
      ]
     },
     "execution_count": 25,
     "metadata": {},
     "output_type": "execute_result"
    }
   ],
   "source": [
    "mobile['INCOME'].describe()"
   ]
  },
  {
   "cell_type": "markdown",
   "metadata": {},
   "source": [
    "⑤ 분포"
   ]
  },
  {
   "cell_type": "code",
   "execution_count": 26,
   "metadata": {},
   "outputs": [
    {
     "data": {
      "image/png": "[encoded data removed]",
      "text/plain": [
       "<Figure size 432x288 with 1 Axes>"
      ]
     },
     "metadata": {
      "needs_background": "light"
     },
     "output_type": "display_data"
    }
   ],
   "source": [
    "sns.histplot(mobile['INCOME'], bins = 20)\n",
    "plt.show()"
   ]
  },
  {
   "cell_type": "code",
   "execution_count": 27,
   "metadata": {},
   "outputs": [
    {
     "data": {
      "image/png": "[encoded data removed]",
      "text/plain": [
       "<Figure size 432x288 with 1 Axes>"
      ]
     },
     "metadata": {
      "needs_background": "light"
     },
     "output_type": "display_data"
    },
    {
     "name": "stdout",
     "output_type": "stream",
     "text": [
      "[42151.5 20007. ]\n",
      "[116082.25 159983.  ]\n"
     ]
    }
   ],
   "source": [
    "box = plt.boxplot(mobile['INCOME'])\n",
    "plt.show()\n",
    "\n",
    "print(box['whiskers'][0].get_ydata())\n",
    "print(box['whiskers'][1].get_ydata())"
   ]
  },
  {
   "cell_type": "markdown",
   "metadata": {},
   "source": [
    "⑥ 위 정보로부터 파악한 내용(비즈니스!) 정리\n",
    "* 2만~5만달러가 아주 많다.\n",
    "    * 2만달러를 받는 사람들은 대학을 졸업하지 않았을까?\n",
    "* 생각보다 고액 연봉과 5만달러 이후의 비율이 비슷하다.\n",
    "    * 고액연봉중에도 대학을 졸업하지 않은 사람이 있을까?"
   ]
  },
  {
   "cell_type": "markdown",
   "metadata": {},
   "source": [
    "⑦ 추가 분석해볼 사항 도출\n",
    "\n",
    "* 급여가 높으면 핸드폰 가격이 비싼 것을 사용할까?\n",
    "* 급여가 높으면 집값도 비쌀까?\n",
    "* 급여가 높으면 초과사용 시간은 얼마나 될까?"
   ]
  },
  {
   "cell_type": "markdown",
   "metadata": {
    "id": "e3QPEq8efB1r"
   },
   "source": [
    "### 4) COLLEGE"
   ]
  },
  {
   "cell_type": "markdown",
   "metadata": {
    "id": "H4Oa5BnzKme9"
   },
   "source": [
    "① 변수의 비즈니스 의미\n",
    "* 대학졸업 여부"
   ]
  },
  {
   "cell_type": "markdown",
   "metadata": {
    "id": "r6Aiu2rkEUc-"
   },
   "source": [
    "② 숫자? 범주?\n",
    "* 범주"
   ]
  },
  {
   "cell_type": "markdown",
   "metadata": {
    "id": "Z8XzJMuFEUZp"
   },
   "source": [
    "③ 전처리 사항\n",
    "* NAN 존재 X , 가변수화 X"
   ]
  },
  {
   "cell_type": "markdown",
   "metadata": {
    "id": "fzR3w0yaEUWY"
   },
   "source": [
    "④ 기초통계량"
   ]
  },
  {
   "cell_type": "code",
   "execution_count": 28,
   "metadata": {
    "id": "nb1zmTAgEUS3",
    "scrolled": true
   },
   "outputs": [
    {
     "name": "stdout",
     "output_type": "stream",
     "text": [
      "1    9049\n",
      "0    8951\n",
      "Name: COLLEGE, dtype: int64\n",
      "1    0.502722\n",
      "0    0.497278\n",
      "Name: COLLEGE, dtype: float64\n"
     ]
    }
   ],
   "source": [
    "print(mobile['COLLEGE'].value_counts())\n",
    "print(mobile['COLLEGE'].value_counts()/ len(mobile['COLLEGE']))"
   ]
  },
  {
   "cell_type": "markdown",
   "metadata": {},
   "source": [
    "⑤ 분포"
   ]
  },
  {
   "cell_type": "code",
   "execution_count": 29,
   "metadata": {},
   "outputs": [
    {
     "name": "stderr",
     "output_type": "stream",
     "text": [
      "C:\\Users\\User\\anaconda3\\lib\\site-packages\\seaborn\\_decorators.py:36: FutureWarning: Pass the following variable as a keyword arg: x. From version 0.12, the only valid positional argument will be `data`, and passing other arguments without an explicit keyword will result in an error or misinterpretation.\n",
      "  warnings.warn(\n"
     ]
    },
    {
     "data": {
      "image/png": "[encoded data removed]",
      "text/plain": [
       "<Figure size 432x288 with 1 Axes>"
      ]
     },
     "metadata": {
      "needs_background": "light"
     },
     "output_type": "display_data"
    }
   ],
   "source": [
    "sns.countplot(mobile['COLLEGE'])\n",
    "plt.show()"
   ]
  },
  {
   "cell_type": "markdown",
   "metadata": {},
   "source": [
    "⑥ 위 정보로부터 파악한 내용(비즈니스!) 정리\n",
    "\n",
    "* 거의 비슷한 확률이다. 대학 미졸업(49.7%) , 대학 졸업(50.3)\n",
    "* 대학졸업하지 않은 사람들은 대학을 재학중인지 아니면 대학을 안다니는건지 알 수 없음"
   ]
  },
  {
   "cell_type": "markdown",
   "metadata": {},
   "source": [
    "⑦ 추가 분석해볼 사항 도출\n",
    "\n",
    "* 대학 졸업여부에 0인사람들의 연수입을 확인해 재학중인지 아님 안다니는건지 알아 보면 좋을 거 같음"
   ]
  },
  {
   "cell_type": "markdown",
   "metadata": {
    "id": "E5rB6CiofI_d"
   },
   "source": [
    "### 5) REPORTED_SATISFACTION\t"
   ]
  },
  {
   "cell_type": "markdown",
   "metadata": {
    "id": "BoOX0VRsKped"
   },
   "source": [
    "① 변수의 비즈니스 의미\n",
    "* 만족도 설문"
   ]
  },
  {
   "cell_type": "markdown",
   "metadata": {
    "id": "UbgPbP4YEWp0"
   },
   "source": [
    "② 숫자? 범주?\n",
    "* 범주"
   ]
  },
  {
   "cell_type": "markdown",
   "metadata": {
    "id": "YQvxJ9AaEWmV"
   },
   "source": [
    "③ 전처리 사항"
   ]
  },
  {
   "cell_type": "markdown",
   "metadata": {
    "id": "TNcmlLfHEWjg"
   },
   "source": [
    "* NaN 38건 존재\n",
    "* 조치방안 :\n",
    "    * 삭제 : 38건이라는 건 작게보면 작은 것이고 크게보면 큰 것이므로 삭제는 최후의 방법으로 선택한다.\n",
    "    * 채우기 :\n",
    "        * 평균을 사용하면, 38건의 NaN이 모두 같아 결국 평균에 영향을 안 줄 것이다.\n",
    "        * 직전 행의 값 또는 바로 다음행의 값으로 채우기 한다."
   ]
  },
  {
   "cell_type": "code",
   "execution_count": 48,
   "metadata": {},
   "outputs": [
    {
     "name": "stdout",
     "output_type": "stream",
     "text": [
      "COLLEGE                         0\n",
      "INCOME                          0\n",
      "OVERAGE                         0\n",
      "LEFTOVER                        0\n",
      "HOUSE                         215\n",
      "HANDSET_PRICE                   0\n",
      "AVERAGE_CALL_DURATION           0\n",
      "REPORTED_SATISFACTION          38\n",
      "CONSIDERING_CHANGE_OF_PLAN      0\n",
      "CHURN                           0\n",
      "dtype: int64\n"
     ]
    }
   ],
   "source": [
    "# 직전 행의 값 또는 바로 다음행의 값으로 채우기\n",
    "# 데이터프레임 복사\n",
    "mobile_test = mobile.copy()\n",
    "\n",
    "# 결측치 확인\n",
    "print(mobile_test.isna().sum())"
   ]
  },
  {
   "cell_type": "code",
   "execution_count": 49,
   "metadata": {},
   "outputs": [
    {
     "data": {
      "text/html": [
       "<div>\n",
       "<style scoped>\n",
       "    .dataframe tbody tr th:only-of-type {\n",
       "        vertical-align: middle;\n",
       "    }\n",
       "\n",
       "    .dataframe tbody tr th {\n",
       "        vertical-align: top;\n",
       "    }\n",
       "\n",
       "    .dataframe thead th {\n",
       "        text-align: right;\n",
       "    }\n",
       "</style>\n",
       "<table border=\"1\" class=\"dataframe\">\n",
       "  <thead>\n",
       "    <tr style=\"text-align: right;\">\n",
       "      <th></th>\n",
       "      <th>COLLEGE</th>\n",
       "      <th>INCOME</th>\n",
       "      <th>OVERAGE</th>\n",
       "      <th>LEFTOVER</th>\n",
       "      <th>HOUSE</th>\n",
       "      <th>HANDSET_PRICE</th>\n",
       "      <th>AVERAGE_CALL_DURATION</th>\n",
       "      <th>REPORTED_SATISFACTION</th>\n",
       "      <th>CONSIDERING_CHANGE_OF_PLAN</th>\n",
       "      <th>CHURN</th>\n",
       "    </tr>\n",
       "  </thead>\n",
       "  <tbody>\n",
       "    <tr>\n",
       "      <th>0</th>\n",
       "      <td>1</td>\n",
       "      <td>47711</td>\n",
       "      <td>183</td>\n",
       "      <td>17</td>\n",
       "      <td>730589.0</td>\n",
       "      <td>192</td>\n",
       "      <td>5</td>\n",
       "      <td>unsat</td>\n",
       "      <td>4</td>\n",
       "      <td>0</td>\n",
       "    </tr>\n",
       "    <tr>\n",
       "      <th>1</th>\n",
       "      <td>0</td>\n",
       "      <td>74132</td>\n",
       "      <td>191</td>\n",
       "      <td>43</td>\n",
       "      <td>535092.0</td>\n",
       "      <td>349</td>\n",
       "      <td>2</td>\n",
       "      <td>unsat</td>\n",
       "      <td>2</td>\n",
       "      <td>1</td>\n",
       "    </tr>\n",
       "    <tr>\n",
       "      <th>2</th>\n",
       "      <td>1</td>\n",
       "      <td>150419</td>\n",
       "      <td>0</td>\n",
       "      <td>14</td>\n",
       "      <td>204004.0</td>\n",
       "      <td>682</td>\n",
       "      <td>6</td>\n",
       "      <td>unsat</td>\n",
       "      <td>4</td>\n",
       "      <td>0</td>\n",
       "    </tr>\n",
       "    <tr>\n",
       "      <th>3</th>\n",
       "      <td>0</td>\n",
       "      <td>159567</td>\n",
       "      <td>0</td>\n",
       "      <td>58</td>\n",
       "      <td>281969.0</td>\n",
       "      <td>634</td>\n",
       "      <td>1</td>\n",
       "      <td>very_unsat</td>\n",
       "      <td>1</td>\n",
       "      <td>0</td>\n",
       "    </tr>\n",
       "    <tr>\n",
       "      <th>4</th>\n",
       "      <td>1</td>\n",
       "      <td>23392</td>\n",
       "      <td>0</td>\n",
       "      <td>0</td>\n",
       "      <td>216707.0</td>\n",
       "      <td>233</td>\n",
       "      <td>15</td>\n",
       "      <td>unsat</td>\n",
       "      <td>2</td>\n",
       "      <td>1</td>\n",
       "    </tr>\n",
       "    <tr>\n",
       "      <th>5</th>\n",
       "      <td>1</td>\n",
       "      <td>119591</td>\n",
       "      <td>0</td>\n",
       "      <td>43</td>\n",
       "      <td>231309.0</td>\n",
       "      <td>714</td>\n",
       "      <td>1</td>\n",
       "      <td>very_sat</td>\n",
       "      <td>4</td>\n",
       "      <td>0</td>\n",
       "    </tr>\n",
       "    <tr>\n",
       "      <th>6</th>\n",
       "      <td>1</td>\n",
       "      <td>99548</td>\n",
       "      <td>235</td>\n",
       "      <td>0</td>\n",
       "      <td>238561.0</td>\n",
       "      <td>294</td>\n",
       "      <td>6</td>\n",
       "      <td>very_unsat</td>\n",
       "      <td>5</td>\n",
       "      <td>1</td>\n",
       "    </tr>\n",
       "  </tbody>\n",
       "</table>\n",
       "</div>"
      ],
      "text/plain": [
       "   COLLEGE  INCOME  OVERAGE  LEFTOVER     HOUSE  HANDSET_PRICE  \\\n",
       "0        1   47711      183        17  730589.0            192   \n",
       "1        0   74132      191        43  535092.0            349   \n",
       "2        1  150419        0        14  204004.0            682   \n",
       "3        0  159567        0        58  281969.0            634   \n",
       "4        1   23392        0         0  216707.0            233   \n",
       "5        1  119591        0        43  231309.0            714   \n",
       "6        1   99548      235         0  238561.0            294   \n",
       "\n",
       "   AVERAGE_CALL_DURATION REPORTED_SATISFACTION  CONSIDERING_CHANGE_OF_PLAN  \\\n",
       "0                      5                 unsat                           4   \n",
       "1                      2                 unsat                           2   \n",
       "2                      6                 unsat                           4   \n",
       "3                      1            very_unsat                           1   \n",
       "4                     15                 unsat                           2   \n",
       "5                      1              very_sat                           4   \n",
       "6                      6            very_unsat                           5   \n",
       "\n",
       "   CHURN  \n",
       "0      0  \n",
       "1      1  \n",
       "2      0  \n",
       "3      0  \n",
       "4      1  \n",
       "5      0  \n",
       "6      1  "
      ]
     },
     "execution_count": 49,
     "metadata": {},
     "output_type": "execute_result"
    }
   ],
   "source": [
    "mobile_test.head(7)"
   ]
  },
  {
   "cell_type": "code",
   "execution_count": 39,
   "metadata": {},
   "outputs": [
    {
     "ename": "NameError",
     "evalue": "name 'mobile_test' is not defined",
     "output_type": "error",
     "traceback": [
      "\u001b[1;31m---------------------------------------------------------------------------\u001b[0m",
      "\u001b[1;31mNameError\u001b[0m                                 Traceback (most recent call last)",
      "\u001b[1;32m<ipython-input-39-2fe7ddac287f>\u001b[0m in \u001b[0;36m<module>\u001b[1;34m\u001b[0m\n\u001b[0;32m      1\u001b[0m \u001b[1;31m# 이전값으로 채우기\u001b[0m\u001b[1;33m\u001b[0m\u001b[1;33m\u001b[0m\u001b[1;33m\u001b[0m\u001b[0m\n\u001b[1;32m----> 2\u001b[1;33m \u001b[0mmobile_test\u001b[0m\u001b[1;33m.\u001b[0m\u001b[0mfillna\u001b[0m\u001b[1;33m(\u001b[0m\u001b[0mmethod\u001b[0m \u001b[1;33m=\u001b[0m \u001b[1;34m'ffill'\u001b[0m\u001b[1;33m,\u001b[0m \u001b[0minplace\u001b[0m \u001b[1;33m=\u001b[0m \u001b[1;32mTrue\u001b[0m\u001b[1;33m)\u001b[0m\u001b[1;33m\u001b[0m\u001b[1;33m\u001b[0m\u001b[0m\n\u001b[0m\u001b[0;32m      3\u001b[0m \u001b[0mmobile_test\u001b[0m\u001b[1;33m.\u001b[0m\u001b[0mhead\u001b[0m\u001b[1;33m(\u001b[0m\u001b[1;36m7\u001b[0m\u001b[1;33m)\u001b[0m\u001b[1;33m\u001b[0m\u001b[1;33m\u001b[0m\u001b[0m\n",
      "\u001b[1;31mNameError\u001b[0m: name 'mobile_test' is not defined"
     ]
    }
   ],
   "source": [
    "# 이전값으로 채우기\n",
    "mobile_test.fillna(method = 'ffill', inplace = True)\n",
    "mobile_test.head(7)"
   ]
  },
  {
   "cell_type": "markdown",
   "metadata": {
    "id": "e0BoQmeOEWgF"
   },
   "source": [
    "④ 기초통계량"
   ]
  },
  {
   "cell_type": "code",
   "execution_count": 51,
   "metadata": {},
   "outputs": [
    {
     "name": "stdout",
     "output_type": "stream",
     "text": [
      "very_unsat    7072\n",
      "very_sat      4562\n",
      "unsat         3590\n",
      "avg           1806\n",
      "sat            932\n",
      "Name: REPORTED_SATISFACTION, dtype: int64\n",
      "very_unsat    0.392889\n",
      "very_sat      0.253444\n",
      "unsat         0.199444\n",
      "avg           0.100333\n",
      "sat           0.051778\n",
      "Name: REPORTED_SATISFACTION, dtype: float64\n"
     ]
    }
   ],
   "source": [
    "print(mobile['REPORTED_SATISFACTION'].value_counts())\n",
    "print(mobile['REPORTED_SATISFACTION'].value_counts()/ len(mobile['REPORTED_SATISFACTION']))"
   ]
  },
  {
   "cell_type": "markdown",
   "metadata": {},
   "source": [
    "⑤ 분포"
   ]
  },
  {
   "cell_type": "code",
   "execution_count": 38,
   "metadata": {},
   "outputs": [
    {
     "data": {
      "image/png": "[encoded data removed]",
      "text/plain": [
       "<Figure size 432x288 with 1 Axes>"
      ]
     },
     "metadata": {},
     "output_type": "display_data"
    }
   ],
   "source": [
    "cnt = mobile['REPORTED_SATISFACTION'].value_counts()\n",
    "\n",
    "plt.pie(cnt.values, labels = cnt.index, autopct = '%.1f%%')\n",
    "plt.show()"
   ]
  },
  {
   "cell_type": "markdown",
   "metadata": {},
   "source": [
    "⑥ 위 정보로부터 파악한 내용(비즈니스!) 정리\n",
    "\n",
    "* 생각보다 불만족의 비율이 높은 편이다. 58%의 비율로 절반 이상 이다.\n",
    "* 불만족이 많은 것으로 보아 이탈이 많을 것이다."
   ]
  },
  {
   "cell_type": "markdown",
   "metadata": {},
   "source": [
    "⑦ 추가 분석해볼 사항 도출\n",
    "\n",
    "* 불만족에 따른 이탈률 확인\n",
    "* 비싼 핸드폰을 쓰면 만족도는 어떨지 궁금하다.\n",
    "* 월 잔여시간이 남는 사람들은 만족하고 있을까 ?"
   ]
  },
  {
   "cell_type": "markdown",
   "metadata": {
    "id": "Es3rqfErEb4L"
   },
   "source": [
    "### 6) CONSIDERING_CHANGE_OF_PLAN"
   ]
  },
  {
   "cell_type": "markdown",
   "metadata": {
    "id": "CokPil3nLCc7"
   },
   "source": [
    "① 변수의 비즈니스 의미\n",
    "* 변경 계획 질문"
   ]
  },
  {
   "cell_type": "markdown",
   "metadata": {
    "id": "Gr_p2-bKEY8c"
   },
   "source": [
    "② 숫자? 범주?\n",
    "* 범주"
   ]
  },
  {
   "cell_type": "markdown",
   "metadata": {
    "id": "onnE3DVmEY5C"
   },
   "source": [
    "③ 전처리 사항"
   ]
  },
  {
   "cell_type": "markdown",
   "metadata": {},
   "source": [
    "* NaN 존재 X , 가변수화 필요"
   ]
  },
  {
   "cell_type": "code",
   "execution_count": 6,
   "metadata": {},
   "outputs": [
    {
     "name": "stderr",
     "output_type": "stream",
     "text": [
      "C:\\Users\\User\\anaconda3\\lib\\site-packages\\seaborn\\_decorators.py:36: FutureWarning: Pass the following variable as a keyword arg: x. From version 0.12, the only valid positional argument will be `data`, and passing other arguments without an explicit keyword will result in an error or misinterpretation.\n",
      "  warnings.warn(\n"
     ]
    },
    {
     "data": {
      "image/png": "[encoded data removed]",
      "text/plain": [
       "<Figure size 432x288 with 1 Axes>"
      ]
     },
     "metadata": {
      "needs_background": "light"
     },
     "output_type": "display_data"
    },
    {
     "data": {
      "text/plain": [
       "<Figure size 720x432 with 0 Axes>"
      ]
     },
     "metadata": {},
     "output_type": "display_data"
    }
   ],
   "source": [
    "sns.countplot(mobile['CONSIDERING_CHANGE_OF_PLAN'])\n",
    "\n",
    "plt.figure(figsize = (10, 6))\n",
    "plt.show()"
   ]
  },
  {
   "cell_type": "code",
   "execution_count": 3,
   "metadata": {},
   "outputs": [],
   "source": [
    "mobile['CONSIDERING_CHANGE_OF_PLAN'] = mobile['CONSIDERING_CHANGE_OF_PLAN'].map({'never_thought': 1,\n",
    "                                                                                 'no': 2,\n",
    "                                                                                 'perhaps' :3,\n",
    "                                                                                 'considering' :4,\n",
    "                                                                                 'actively_looking_into_it' :5\n",
    "                                                                                })"
   ]
  },
  {
   "cell_type": "markdown",
   "metadata": {},
   "source": [
    "④ 기초통계량"
   ]
  },
  {
   "cell_type": "code",
   "execution_count": 4,
   "metadata": {},
   "outputs": [
    {
     "name": "stdout",
     "output_type": "stream",
     "text": [
      "4    7141\n",
      "5    4453\n",
      "2    3644\n",
      "1    1804\n",
      "3     958\n",
      "Name: CONSIDERING_CHANGE_OF_PLAN, dtype: int64\n",
      "4    0.396722\n",
      "5    0.247389\n",
      "2    0.202444\n",
      "1    0.100222\n",
      "3    0.053222\n",
      "Name: CONSIDERING_CHANGE_OF_PLAN, dtype: float64\n"
     ]
    }
   ],
   "source": [
    "print(mobile['CONSIDERING_CHANGE_OF_PLAN'].value_counts())\n",
    "print(mobile['CONSIDERING_CHANGE_OF_PLAN'].value_counts()/ len(mobile['CONSIDERING_CHANGE_OF_PLAN']))"
   ]
  },
  {
   "cell_type": "markdown",
   "metadata": {
    "id": "3WRPvPWsEY2A"
   },
   "source": [
    "⑤ 분포"
   ]
  },
  {
   "cell_type": "code",
   "execution_count": 5,
   "metadata": {
    "id": "bURrEvizEYy6"
   },
   "outputs": [
    {
     "name": "stderr",
     "output_type": "stream",
     "text": [
      "C:\\Users\\User\\anaconda3\\lib\\site-packages\\seaborn\\_decorators.py:36: FutureWarning: Pass the following variable as a keyword arg: x. From version 0.12, the only valid positional argument will be `data`, and passing other arguments without an explicit keyword will result in an error or misinterpretation.\n",
      "  warnings.warn(\n"
     ]
    },
    {
     "data": {
      "image/png": "[encoded data removed]",
      "text/plain": [
       "<Figure size 432x288 with 1 Axes>"
      ]
     },
     "metadata": {
      "needs_background": "light"
     },
     "output_type": "display_data"
    }
   ],
   "source": [
    "sns.countplot(mobile['CONSIDERING_CHANGE_OF_PLAN'])\n",
    "plt.show()"
   ]
  },
  {
   "cell_type": "code",
   "execution_count": null,
   "metadata": {},
   "outputs": [],
   "source": [
    "sns.countplot(mobile['CONSIDERING_CHANGE_OF_PLAN'])\n",
    "plt.show()"
   ]
  },
  {
   "cell_type": "markdown",
   "metadata": {},
   "source": [
    "⑥ 위 정보로부터 파악한 내용(비즈니스!) 정리\n",
    "\n",
    "* 만족도 설문과 같이 여기도 절반이상이 불만족이다. 총 63%이다.\n",
    "* 왜 다들 변경하고싶은건지 새로운 핸드폰 출시 때문인걸까?\n"
   ]
  },
  {
   "cell_type": "markdown",
   "metadata": {},
   "source": [
    "⑦ 추가 분석해볼 사항 도출\n",
    "\n",
    "* 변경 계획이 있는 사람들은 돈이 많을까?\n",
    "* 변경 계획이 있는 사람들은 만족도도 역시 떨어질까?"
   ]
  },
  {
   "cell_type": "markdown",
   "metadata": {
    "id": "78iry0XpLCc0"
   },
   "source": [
    "### 7) CHURN(target)"
   ]
  },
  {
   "cell_type": "markdown",
   "metadata": {
    "id": "XJ0YIFJrEb4R"
   },
   "source": [
    "① 변수의 비즈니스 의미\n",
    "* 이탈 여부"
   ]
  },
  {
   "cell_type": "markdown",
   "metadata": {
    "id": "626cRSYjEb4R"
   },
   "source": [
    "② 숫자? 범주?\n",
    "* 범주"
   ]
  },
  {
   "cell_type": "markdown",
   "metadata": {
    "id": "vXTWiazJEb4R"
   },
   "source": [
    "③ 전처리 사항\n",
    "* NaN 존재 X , 가변수화 X "
   ]
  },
  {
   "cell_type": "markdown",
   "metadata": {},
   "source": [
    "④ 기초통계량"
   ]
  },
  {
   "cell_type": "code",
   "execution_count": 46,
   "metadata": {},
   "outputs": [
    {
     "name": "stdout",
     "output_type": "stream",
     "text": [
      "0    9131\n",
      "1    8869\n",
      "Name: CHURN, dtype: int64\n",
      "0    0.507278\n",
      "1    0.492722\n",
      "Name: CHURN, dtype: float64\n"
     ]
    }
   ],
   "source": [
    "print(mobile['CHURN'].value_counts())\n",
    "print(mobile['CHURN'].value_counts()/ len(mobile['CHURN']))"
   ]
  },
  {
   "cell_type": "markdown",
   "metadata": {},
   "source": [
    "⑤ 분포"
   ]
  },
  {
   "cell_type": "code",
   "execution_count": 47,
   "metadata": {},
   "outputs": [
    {
     "name": "stderr",
     "output_type": "stream",
     "text": [
      "C:\\Users\\User\\anaconda3\\lib\\site-packages\\seaborn\\_decorators.py:36: FutureWarning: Pass the following variable as a keyword arg: x. From version 0.12, the only valid positional argument will be `data`, and passing other arguments without an explicit keyword will result in an error or misinterpretation.\n",
      "  warnings.warn(\n"
     ]
    },
    {
     "data": {
      "image/png": "[encoded data removed]",
      "text/plain": [
       "<Figure size 432x288 with 1 Axes>"
      ]
     },
     "metadata": {
      "needs_background": "light"
     },
     "output_type": "display_data"
    }
   ],
   "source": [
    "sns.countplot(mobile['CHURN'])\n",
    "plt.show()"
   ]
  },
  {
   "cell_type": "markdown",
   "metadata": {},
   "source": [
    "⑥ 위 정보로부터 파악한 내용(비즈니스!) 정리\n",
    "\n",
    "* 만족도 설문과, 변경 계획에 비해 이탈여부는 크게 차이가 안난다.\n",
    "    * 이탈은 안하고 새로운 핸드폰만 변경하는 것인가?\n",
    "    * 만족도가 통신사 서비스보단 핸드폰의 불만족인가?"
   ]
  },
  {
   "cell_type": "markdown",
   "metadata": {
    "id": "L5_tBDWkEb4R"
   },
   "source": [
    "⑦ 추가 분석해볼 사항 도출\n",
    "\n",
    "* 만족도와 변경계획과의 관계를 찾아봐야 좋을 것 같다.\n"
   ]
  },
  {
   "cell_type": "code",
   "execution_count": null,
   "metadata": {
    "id": "QVzAdTHyEmON"
   },
   "outputs": [],
   "source": []
  },
  {
   "cell_type": "markdown",
   "metadata": {
    "id": "ZghJJ7yLEpDA"
   },
   "source": [
    "## 3.이변량 분석 \n",
    "* 자료의 종류에 맞게 X --> Y 에 대해서 그래프(시각화)와 가설검정(수치화)를 수행하고 결과를 평가합니다.\n",
    "* 가설검정시 다음의 항목을 참조하여 수행합니다.\n",
    "    * 유의수준 : 5%\n",
    "    * 숫자 --> 숫자 : 상관분석\n",
    "    * 범주 --> 범주 : 카이제곱검정\n",
    "    * 범주 --> 숫자 : t검정, 분산분석\n",
    "    * 숫자 --> 범주 : 로지스틱 회귀모형을 통해, 회귀계수의 P.value로 검정을 수행합니다.\n"
   ]
  },
  {
   "cell_type": "code",
   "execution_count": null,
   "metadata": {
    "id": "qiWKeotjGkLp"
   },
   "outputs": [],
   "source": [
    "target = 'CHURN'"
   ]
  },
  {
   "cell_type": "markdown",
   "metadata": {
    "id": "fap08wfEMqtY"
   },
   "source": [
    "### (1) 범주형 Feature --> CHURN\n",
    "* 모든 범주형 Feature에 대해서 Y와 비교하여 차트를 그리고 수치화 하시오.  \n",
    "    ① 교차표(pd.crosstab())  \n",
    "    ② 시각화( Stacked Bar, Mosaic)  \n",
    "    ③ 가설검정(카이제곱검정)\n",
    "* 각 feature 별로 관계의 정도를 3가지로 정리해봅시다. "
   ]
  },
  {
   "cell_type": "markdown",
   "metadata": {
    "id": "Dh2UW7_S-yoq"
   },
   "source": [
    "#### 1) COLLEGE --> CHURN"
   ]
  },
  {
   "cell_type": "markdown",
   "metadata": {},
   "source": [
    "① 교차표(pd.crosstab())"
   ]
  },
  {
   "cell_type": "code",
   "execution_count": 6,
   "metadata": {
    "id": "EWXtZEr_X0ok"
   },
   "outputs": [
    {
     "data": {
      "text/html": [
       "<div>\n",
       "<style scoped>\n",
       "    .dataframe tbody tr th:only-of-type {\n",
       "        vertical-align: middle;\n",
       "    }\n",
       "\n",
       "    .dataframe tbody tr th {\n",
       "        vertical-align: top;\n",
       "    }\n",
       "\n",
       "    .dataframe thead th {\n",
       "        text-align: right;\n",
       "    }\n",
       "</style>\n",
       "<table border=\"1\" class=\"dataframe\">\n",
       "  <thead>\n",
       "    <tr style=\"text-align: right;\">\n",
       "      <th>COLLEGE</th>\n",
       "      <th>0</th>\n",
       "      <th>1</th>\n",
       "    </tr>\n",
       "    <tr>\n",
       "      <th>CHURN</th>\n",
       "      <th></th>\n",
       "      <th></th>\n",
       "    </tr>\n",
       "  </thead>\n",
       "  <tbody>\n",
       "    <tr>\n",
       "      <th>0</th>\n",
       "      <td>4616</td>\n",
       "      <td>4515</td>\n",
       "    </tr>\n",
       "    <tr>\n",
       "      <th>1</th>\n",
       "      <td>4335</td>\n",
       "      <td>4534</td>\n",
       "    </tr>\n",
       "  </tbody>\n",
       "</table>\n",
       "</div>"
      ],
      "text/plain": [
       "COLLEGE     0     1\n",
       "CHURN              \n",
       "0        4616  4515\n",
       "1        4335  4534"
      ]
     },
     "execution_count": 6,
     "metadata": {},
     "output_type": "execute_result"
    }
   ],
   "source": [
    "pd.crosstab(mobile['CHURN'], mobile['COLLEGE'])"
   ]
  },
  {
   "cell_type": "markdown",
   "metadata": {
    "id": "T1VEUO2DFQZd"
   },
   "source": [
    "② 시각화( Stacked Bar, Mosaic)"
   ]
  },
  {
   "cell_type": "code",
   "execution_count": 8,
   "metadata": {
    "id": "iRNinsgWFQGF"
   },
   "outputs": [
    {
     "name": "stdout",
     "output_type": "stream",
     "text": [
      "CHURN           0         1\n",
      "COLLEGE                    \n",
      "0        0.515697  0.484303\n",
      "1        0.498950  0.501050\n"
     ]
    },
    {
     "data": {
      "image/png": "[encoded data removed]",
      "text/plain": [
       "<Figure size 432x288 with 1 Axes>"
      ]
     },
     "metadata": {
      "needs_background": "light"
     },
     "output_type": "display_data"
    }
   ],
   "source": [
    "temp = pd.crosstab(mobile['COLLEGE'], mobile['CHURN'], normalize = 'index')\n",
    "print(temp)\n",
    "temp.plot.bar(stacked=True)\n",
    "plt.axhline(1-mobile['CHURN'].mean(), color = 'r')\n",
    "plt.show()"
   ]
  },
  {
   "cell_type": "code",
   "execution_count": 9,
   "metadata": {
    "id": "rnJwF8-dFQCg"
   },
   "outputs": [
    {
     "data": {
      "image/png": "[encoded data removed]",
      "text/plain": [
       "<Figure size 432x288 with 3 Axes>"
      ]
     },
     "metadata": {
      "needs_background": "light"
     },
     "output_type": "display_data"
    }
   ],
   "source": [
    "mosaic(mobile.sort_values(['COLLEGE', 'CHURN']), [ 'COLLEGE','CHURN'], gap = 0.01)\n",
    "plt.axhline(1- mobile['CHURN'].mean(), color = 'r')\n",
    "plt.show()"
   ]
  },
  {
   "cell_type": "markdown",
   "metadata": {
    "id": "Ch0ZeVooFP-g"
   },
   "source": [
    "시각화를 통해 파악한 내용"
   ]
  },
  {
   "cell_type": "markdown",
   "metadata": {},
   "source": [
    ">\n",
    "* 대학졸업과 졸업하지 않은 사람들의 비율은 비슷하고, 이탈과 이탈하지않은 것이 비슷해 차이가 없는편이다.\n",
    "* mosaic으로 봐도 평균과 별 차이가 있지 않고 동등한 수준이며 차이는 없다.\n",
    "* 결론 : 대학졸업 여부와 고객 이탈은 상관이 없다."
   ]
  },
  {
   "cell_type": "markdown",
   "metadata": {},
   "source": [
    "③ 가설검정(카이제곱검정)"
   ]
  },
  {
   "cell_type": "code",
   "execution_count": 11,
   "metadata": {},
   "outputs": [
    {
     "name": "stdout",
     "output_type": "stream",
     "text": [
      "교차표\n",
      " COLLEGE     0     1\n",
      "CHURN              \n",
      "0        4616  4515\n",
      "1        4335  4534\n",
      "----------------------------------------------------------------------------------------------------\n",
      "카이제곱통계량 4.982102934693503\n",
      "p-value 0.025610833478220536\n",
      "기대빈도\n",
      " [[4540.64338889 4590.35661111]\n",
      " [4410.35661111 4458.64338889]]\n",
      "----------------------------------------------------------------------------------------------------\n"
     ]
    },
    {
     "data": {
      "text/plain": [
       "(4.982102934693503,\n",
       " 0.025610833478220536,\n",
       " 1,\n",
       " array([[4540.64338889, 4590.35661111],\n",
       "        [4410.35661111, 4458.64338889]]))"
      ]
     },
     "execution_count": 11,
     "metadata": {},
     "output_type": "execute_result"
    }
   ],
   "source": [
    "\n",
    "table = pd.crosstab(mobile['CHURN'],mobile['COLLEGE'])\n",
    "print('교차표\\n', table)\n",
    "print('-' * 100)\n",
    "\n",
    "# 카이제곱검정\n",
    "result = spst.chi2_contingency(table)\n",
    "print('카이제곱통계량', result[0])\n",
    "print('p-value', result[1])\n",
    "print('기대빈도\\n',result[3])\n",
    "print('-' * 100)\n",
    "\n",
    "result"
   ]
  },
  {
   "cell_type": "markdown",
   "metadata": {},
   "source": [
    "④ 시각화와 가설검정을 통해서 파악한 내용을 적어 봅시다."
   ]
  },
  {
   "cell_type": "markdown",
   "metadata": {},
   "source": [
    ">\n",
    "* 자유도는 COLLEGE 범주 2개, CHURN 범주 2개 = > (2-1)*(2-1) = 1\n",
    "* 카이제곱통계량은 자유도의 2~3배가 넘는다. 시각화에선 차이가 없는 줄 알았지만\n",
    "  시각화의 한계로 가설검정을 통하여 보니 약간의 차이가 있다고 보여진다.\n",
    "* p-value 값을 보아하니 0.02 < 0.05 이므로, 차이가 약간 있다고 본다.\n",
    "* 기대빈도 차이가 약간 크다."
   ]
  },
  {
   "cell_type": "markdown",
   "metadata": {
    "id": "4Xeo68yeLU98"
   },
   "source": [
    "#### 2) REPORTED_SATISFACTION --> CHURN"
   ]
  },
  {
   "cell_type": "markdown",
   "metadata": {
    "id": "rA7_WcWzLU-E"
   },
   "source": [
    "① 교차표(pd.crosstab())"
   ]
  },
  {
   "cell_type": "code",
   "execution_count": 3,
   "metadata": {
    "id": "3ZYBcWJ8FSNv"
   },
   "outputs": [
    {
     "data": {
      "text/html": [
       "<div>\n",
       "<style scoped>\n",
       "    .dataframe tbody tr th:only-of-type {\n",
       "        vertical-align: middle;\n",
       "    }\n",
       "\n",
       "    .dataframe tbody tr th {\n",
       "        vertical-align: top;\n",
       "    }\n",
       "\n",
       "    .dataframe thead th {\n",
       "        text-align: right;\n",
       "    }\n",
       "</style>\n",
       "<table border=\"1\" class=\"dataframe\">\n",
       "  <thead>\n",
       "    <tr style=\"text-align: right;\">\n",
       "      <th>REPORTED_SATISFACTION</th>\n",
       "      <th>avg</th>\n",
       "      <th>sat</th>\n",
       "      <th>unsat</th>\n",
       "      <th>very_sat</th>\n",
       "      <th>very_unsat</th>\n",
       "    </tr>\n",
       "    <tr>\n",
       "      <th>CHURN</th>\n",
       "      <th></th>\n",
       "      <th></th>\n",
       "      <th></th>\n",
       "      <th></th>\n",
       "      <th></th>\n",
       "    </tr>\n",
       "  </thead>\n",
       "  <tbody>\n",
       "    <tr>\n",
       "      <th>0</th>\n",
       "      <td>952</td>\n",
       "      <td>492</td>\n",
       "      <td>1792</td>\n",
       "      <td>2334</td>\n",
       "      <td>3543</td>\n",
       "    </tr>\n",
       "    <tr>\n",
       "      <th>1</th>\n",
       "      <td>854</td>\n",
       "      <td>440</td>\n",
       "      <td>1798</td>\n",
       "      <td>2228</td>\n",
       "      <td>3529</td>\n",
       "    </tr>\n",
       "  </tbody>\n",
       "</table>\n",
       "</div>"
      ],
      "text/plain": [
       "REPORTED_SATISFACTION  avg  sat  unsat  very_sat  very_unsat\n",
       "CHURN                                                       \n",
       "0                      952  492   1792      2334        3543\n",
       "1                      854  440   1798      2228        3529"
      ]
     },
     "execution_count": 3,
     "metadata": {},
     "output_type": "execute_result"
    }
   ],
   "source": [
    "pd.crosstab(mobile['CHURN'], mobile['REPORTED_SATISFACTION'])"
   ]
  },
  {
   "cell_type": "markdown",
   "metadata": {
    "id": "H8r6fiOjFSKP"
   },
   "source": [
    "② 시각화( Stacked Bar, Mosaic)"
   ]
  },
  {
   "cell_type": "code",
   "execution_count": 4,
   "metadata": {
    "scrolled": true
   },
   "outputs": [
    {
     "name": "stdout",
     "output_type": "stream",
     "text": [
      "COLLEGE                         0\n",
      "INCOME                          0\n",
      "OVERAGE                         0\n",
      "LEFTOVER                        0\n",
      "HOUSE                         215\n",
      "HANDSET_PRICE                   0\n",
      "AVERAGE_CALL_DURATION           0\n",
      "REPORTED_SATISFACTION          38\n",
      "CONSIDERING_CHANGE_OF_PLAN      0\n",
      "CHURN                           0\n",
      "dtype: int64\n"
     ]
    }
   ],
   "source": [
    "mobile_test = mobile.copy()\n",
    "\n",
    "# 결측치 확인\n",
    "print(mobile_test.isna().sum())"
   ]
  },
  {
   "cell_type": "code",
   "execution_count": 5,
   "metadata": {},
   "outputs": [
    {
     "data": {
      "text/html": [
       "<div>\n",
       "<style scoped>\n",
       "    .dataframe tbody tr th:only-of-type {\n",
       "        vertical-align: middle;\n",
       "    }\n",
       "\n",
       "    .dataframe tbody tr th {\n",
       "        vertical-align: top;\n",
       "    }\n",
       "\n",
       "    .dataframe thead th {\n",
       "        text-align: right;\n",
       "    }\n",
       "</style>\n",
       "<table border=\"1\" class=\"dataframe\">\n",
       "  <thead>\n",
       "    <tr style=\"text-align: right;\">\n",
       "      <th></th>\n",
       "      <th>COLLEGE</th>\n",
       "      <th>INCOME</th>\n",
       "      <th>OVERAGE</th>\n",
       "      <th>LEFTOVER</th>\n",
       "      <th>HOUSE</th>\n",
       "      <th>HANDSET_PRICE</th>\n",
       "      <th>AVERAGE_CALL_DURATION</th>\n",
       "      <th>REPORTED_SATISFACTION</th>\n",
       "      <th>CONSIDERING_CHANGE_OF_PLAN</th>\n",
       "      <th>CHURN</th>\n",
       "    </tr>\n",
       "  </thead>\n",
       "  <tbody>\n",
       "    <tr>\n",
       "      <th>0</th>\n",
       "      <td>1</td>\n",
       "      <td>47711</td>\n",
       "      <td>183</td>\n",
       "      <td>17</td>\n",
       "      <td>730589.0</td>\n",
       "      <td>192</td>\n",
       "      <td>5</td>\n",
       "      <td>unsat</td>\n",
       "      <td>considering</td>\n",
       "      <td>0</td>\n",
       "    </tr>\n",
       "    <tr>\n",
       "      <th>1</th>\n",
       "      <td>0</td>\n",
       "      <td>74132</td>\n",
       "      <td>191</td>\n",
       "      <td>43</td>\n",
       "      <td>535092.0</td>\n",
       "      <td>349</td>\n",
       "      <td>2</td>\n",
       "      <td>unsat</td>\n",
       "      <td>no</td>\n",
       "      <td>1</td>\n",
       "    </tr>\n",
       "    <tr>\n",
       "      <th>2</th>\n",
       "      <td>1</td>\n",
       "      <td>150419</td>\n",
       "      <td>0</td>\n",
       "      <td>14</td>\n",
       "      <td>204004.0</td>\n",
       "      <td>682</td>\n",
       "      <td>6</td>\n",
       "      <td>unsat</td>\n",
       "      <td>considering</td>\n",
       "      <td>0</td>\n",
       "    </tr>\n",
       "    <tr>\n",
       "      <th>3</th>\n",
       "      <td>0</td>\n",
       "      <td>159567</td>\n",
       "      <td>0</td>\n",
       "      <td>58</td>\n",
       "      <td>281969.0</td>\n",
       "      <td>634</td>\n",
       "      <td>1</td>\n",
       "      <td>very_unsat</td>\n",
       "      <td>never_thought</td>\n",
       "      <td>0</td>\n",
       "    </tr>\n",
       "    <tr>\n",
       "      <th>4</th>\n",
       "      <td>1</td>\n",
       "      <td>23392</td>\n",
       "      <td>0</td>\n",
       "      <td>0</td>\n",
       "      <td>216707.0</td>\n",
       "      <td>233</td>\n",
       "      <td>15</td>\n",
       "      <td>unsat</td>\n",
       "      <td>no</td>\n",
       "      <td>1</td>\n",
       "    </tr>\n",
       "    <tr>\n",
       "      <th>5</th>\n",
       "      <td>1</td>\n",
       "      <td>119591</td>\n",
       "      <td>0</td>\n",
       "      <td>43</td>\n",
       "      <td>231309.0</td>\n",
       "      <td>714</td>\n",
       "      <td>1</td>\n",
       "      <td>very_sat</td>\n",
       "      <td>considering</td>\n",
       "      <td>0</td>\n",
       "    </tr>\n",
       "    <tr>\n",
       "      <th>6</th>\n",
       "      <td>1</td>\n",
       "      <td>99548</td>\n",
       "      <td>235</td>\n",
       "      <td>0</td>\n",
       "      <td>238561.0</td>\n",
       "      <td>294</td>\n",
       "      <td>6</td>\n",
       "      <td>very_unsat</td>\n",
       "      <td>actively_looking_into_it</td>\n",
       "      <td>1</td>\n",
       "    </tr>\n",
       "  </tbody>\n",
       "</table>\n",
       "</div>"
      ],
      "text/plain": [
       "   COLLEGE  INCOME  OVERAGE  LEFTOVER     HOUSE  HANDSET_PRICE  \\\n",
       "0        1   47711      183        17  730589.0            192   \n",
       "1        0   74132      191        43  535092.0            349   \n",
       "2        1  150419        0        14  204004.0            682   \n",
       "3        0  159567        0        58  281969.0            634   \n",
       "4        1   23392        0         0  216707.0            233   \n",
       "5        1  119591        0        43  231309.0            714   \n",
       "6        1   99548      235         0  238561.0            294   \n",
       "\n",
       "   AVERAGE_CALL_DURATION REPORTED_SATISFACTION CONSIDERING_CHANGE_OF_PLAN  \\\n",
       "0                      5                 unsat                considering   \n",
       "1                      2                 unsat                         no   \n",
       "2                      6                 unsat                considering   \n",
       "3                      1            very_unsat              never_thought   \n",
       "4                     15                 unsat                         no   \n",
       "5                      1              very_sat                considering   \n",
       "6                      6            very_unsat   actively_looking_into_it   \n",
       "\n",
       "   CHURN  \n",
       "0      0  \n",
       "1      1  \n",
       "2      0  \n",
       "3      0  \n",
       "4      1  \n",
       "5      0  \n",
       "6      1  "
      ]
     },
     "execution_count": 5,
     "metadata": {},
     "output_type": "execute_result"
    }
   ],
   "source": [
    "mobile_test.fillna(method = 'ffill', inplace = True)\n",
    "mobile_test.head(7)"
   ]
  },
  {
   "cell_type": "code",
   "execution_count": 6,
   "metadata": {},
   "outputs": [],
   "source": [
    "mobile_test['REPORTED_SATISFACTION'] = mobile_test['REPORTED_SATISFACTION'].map({'very_sat': 1,'sat': 2, 'avg' :3, 'unsat':4, 'very_unsat':5})"
   ]
  },
  {
   "cell_type": "code",
   "execution_count": 7,
   "metadata": {
    "id": "-lZ7bHbDFSG-"
   },
   "outputs": [
    {
     "name": "stdout",
     "output_type": "stream",
     "text": [
      "CHURN                         0         1\n",
      "REPORTED_SATISFACTION                    \n",
      "1                      0.511720  0.488280\n",
      "2                      0.527331  0.472669\n",
      "3                      0.527132  0.472868\n",
      "4                      0.499305  0.500695\n",
      "5                      0.500775  0.499225\n"
     ]
    },
    {
     "data": {
      "image/png": "[encoded data removed]",
      "text/plain": [
       "<Figure size 432x288 with 1 Axes>"
      ]
     },
     "metadata": {
      "needs_background": "light"
     },
     "output_type": "display_data"
    }
   ],
   "source": [
    "temp = pd.crosstab(mobile_test['REPORTED_SATISFACTION'], mobile_test['CHURN'], normalize = 'index')\n",
    "print(temp)\n",
    "temp.plot.bar(stacked=True)\n",
    "plt.axhline(1-mobile_test['CHURN'].mean(), color = 'r')\n",
    "plt.show()"
   ]
  },
  {
   "cell_type": "code",
   "execution_count": 8,
   "metadata": {},
   "outputs": [
    {
     "data": {
      "image/png": "[encoded data removed]",
      "text/plain": [
       "<Figure size 432x288 with 3 Axes>"
      ]
     },
     "metadata": {
      "needs_background": "light"
     },
     "output_type": "display_data"
    }
   ],
   "source": [
    "mosaic(mobile_test.sort_values(['REPORTED_SATISFACTION', 'CHURN']), [ 'REPORTED_SATISFACTION','CHURN'], gap = 0.01)\n",
    "plt.axhline(1- mobile_test['CHURN'].mean(), color = 'r')\n",
    "plt.show()"
   ]
  },
  {
   "cell_type": "markdown",
   "metadata": {
    "id": "zMUj1rePFSDg"
   },
   "source": [
    "시각화를 통해 파악한 내용"
   ]
  },
  {
   "cell_type": "markdown",
   "metadata": {},
   "source": [
    ">\n",
    "* 만족과 평균에서 이탈이 평균보다 적은편이다.\n",
    "* 매우 만족은 의외로 이탈이 평균이랑 비슷하여 차이가 없다.\n",
    "* 만족 쪽은 오히려 평균으로 하나의 그래프로 나오고, 불만족은 오히려 잔류가 많은 그래프로 나오게하면 좋을 것 같다.\n",
    "* 만족도와 초과 사용 시간을 비교해봐도 좋을 것 같다."
   ]
  },
  {
   "cell_type": "markdown",
   "metadata": {},
   "source": [
    "③ 가설검정(카이제곱검정)"
   ]
  },
  {
   "cell_type": "code",
   "execution_count": 19,
   "metadata": {},
   "outputs": [
    {
     "name": "stdout",
     "output_type": "stream",
     "text": [
      "교차표\n",
      " REPORTED_SATISFACTION  avg  sat  unsat  very_sat  very_unsat\n",
      "CHURN                                                       \n",
      "0                      952  492   1795      2336        3556\n",
      "1                      854  441   1800      2229        3545\n",
      "----------------------------------------------------------------------------------------------------\n",
      "카이제곱통계량 6.825490904745855\n",
      "p-value 0.1454026621271181\n",
      "기대빈도\n",
      " [[ 916.14366667  473.29016667 1823.66361111 2315.72305556 3602.1795    ]\n",
      " [ 889.85633333  459.70983333 1771.33638889 2249.27694444 3498.8205    ]]\n",
      "----------------------------------------------------------------------------------------------------\n"
     ]
    },
    {
     "data": {
      "text/plain": [
       "(6.825490904745855,\n",
       " 0.1454026621271181,\n",
       " 4,\n",
       " array([[ 916.14366667,  473.29016667, 1823.66361111, 2315.72305556,\n",
       "         3602.1795    ],\n",
       "        [ 889.85633333,  459.70983333, 1771.33638889, 2249.27694444,\n",
       "         3498.8205    ]]))"
      ]
     },
     "execution_count": 19,
     "metadata": {},
     "output_type": "execute_result"
    }
   ],
   "source": [
    "# (data[target], data[feature]) \n",
    "table = pd.crosstab(mobile_test['CHURN'],mobile_test['REPORTED_SATISFACTION'])\n",
    "print('교차표\\n', table)\n",
    "print('-' * 100)\n",
    "\n",
    "# 카이제곱검정\n",
    "result = spst.chi2_contingency(table)\n",
    "print('카이제곱통계량', result[0])\n",
    "print('p-value', result[1])\n",
    "print('기대빈도\\n',result[3])\n",
    "print('-' * 100)\n",
    "\n",
    "result"
   ]
  },
  {
   "cell_type": "markdown",
   "metadata": {},
   "source": [
    "④ 시각화와 가설검정을 통해서 파악한 내용을 적어 봅시다."
   ]
  },
  {
   "cell_type": "markdown",
   "metadata": {},
   "source": [
    ">\n",
    "* 자유도는 만족도 범주 5개, 이탈 2개 => (5-1)*(2-1) = 4\n",
    "* 카이제곱통계량은 자유도의 2~3배가 되지 않으므로, 차이가 없다고 볼 수 있다.\n",
    "* 시각화된 것과 같이 가설검정의 경우도 차이가 있지 않다고 본다.\n",
    "* P-value의 값을 보니 0.14 > 0.05 이므로, 차이가 있지 않다.\n"
   ]
  },
  {
   "cell_type": "markdown",
   "metadata": {
    "id": "bdWZCugILZAz"
   },
   "source": [
    "#### 3)  CONSIDERING_CHANGE_OF_PLAN  --> CHURN"
   ]
  },
  {
   "cell_type": "markdown",
   "metadata": {
    "id": "H7UDK6CKLZAz"
   },
   "source": [
    "① 교차표(pd.crosstab())"
   ]
  },
  {
   "cell_type": "code",
   "execution_count": 20,
   "metadata": {
    "id": "yzB6q17JFUu2"
   },
   "outputs": [
    {
     "data": {
      "text/html": [
       "<div>\n",
       "<style scoped>\n",
       "    .dataframe tbody tr th:only-of-type {\n",
       "        vertical-align: middle;\n",
       "    }\n",
       "\n",
       "    .dataframe tbody tr th {\n",
       "        vertical-align: top;\n",
       "    }\n",
       "\n",
       "    .dataframe thead th {\n",
       "        text-align: right;\n",
       "    }\n",
       "</style>\n",
       "<table border=\"1\" class=\"dataframe\">\n",
       "  <thead>\n",
       "    <tr style=\"text-align: right;\">\n",
       "      <th>CONSIDERING_CHANGE_OF_PLAN</th>\n",
       "      <th>1</th>\n",
       "      <th>2</th>\n",
       "      <th>3</th>\n",
       "      <th>4</th>\n",
       "      <th>5</th>\n",
       "    </tr>\n",
       "    <tr>\n",
       "      <th>CHURN</th>\n",
       "      <th></th>\n",
       "      <th></th>\n",
       "      <th></th>\n",
       "      <th></th>\n",
       "      <th></th>\n",
       "    </tr>\n",
       "  </thead>\n",
       "  <tbody>\n",
       "    <tr>\n",
       "      <th>0</th>\n",
       "      <td>926</td>\n",
       "      <td>1823</td>\n",
       "      <td>456</td>\n",
       "      <td>3648</td>\n",
       "      <td>2278</td>\n",
       "    </tr>\n",
       "    <tr>\n",
       "      <th>1</th>\n",
       "      <td>878</td>\n",
       "      <td>1821</td>\n",
       "      <td>502</td>\n",
       "      <td>3493</td>\n",
       "      <td>2175</td>\n",
       "    </tr>\n",
       "  </tbody>\n",
       "</table>\n",
       "</div>"
      ],
      "text/plain": [
       "CONSIDERING_CHANGE_OF_PLAN    1     2    3     4     5\n",
       "CHURN                                                 \n",
       "0                           926  1823  456  3648  2278\n",
       "1                           878  1821  502  3493  2175"
      ]
     },
     "execution_count": 20,
     "metadata": {},
     "output_type": "execute_result"
    }
   ],
   "source": [
    "pd.crosstab(mobile['CHURN'], mobile['CONSIDERING_CHANGE_OF_PLAN'])"
   ]
  },
  {
   "cell_type": "markdown",
   "metadata": {
    "id": "yruN2nAbFUhU"
   },
   "source": [
    "② 시각화( Stacked Bar, Mosaic)"
   ]
  },
  {
   "cell_type": "code",
   "execution_count": 22,
   "metadata": {
    "id": "a0RGyObLFUdu"
   },
   "outputs": [
    {
     "name": "stdout",
     "output_type": "stream",
     "text": [
      "CHURN                              0         1\n",
      "CONSIDERING_CHANGE_OF_PLAN                    \n",
      "1                           0.513304  0.486696\n",
      "2                           0.500274  0.499726\n",
      "3                           0.475992  0.524008\n",
      "4                           0.510853  0.489147\n",
      "5                           0.511565  0.488435\n"
     ]
    },
    {
     "data": {
      "image/png": "[encoded data removed]",
      "text/plain": [
       "<Figure size 432x288 with 1 Axes>"
      ]
     },
     "metadata": {
      "needs_background": "light"
     },
     "output_type": "display_data"
    }
   ],
   "source": [
    "temp = pd.crosstab(mobile['CONSIDERING_CHANGE_OF_PLAN'], mobile['CHURN'], normalize = 'index')\n",
    "print(temp)\n",
    "temp.plot.bar(stacked=True)\n",
    "plt.axhline(1-mobile['CHURN'].mean(), color = 'r')\n",
    "plt.show()"
   ]
  },
  {
   "cell_type": "code",
   "execution_count": 23,
   "metadata": {
    "id": "vWedSkNoFUak"
   },
   "outputs": [
    {
     "data": {
      "image/png": "[encoded data removed]",
      "text/plain": [
       "<Figure size 432x288 with 3 Axes>"
      ]
     },
     "metadata": {
      "needs_background": "light"
     },
     "output_type": "display_data"
    }
   ],
   "source": [
    "mosaic(mobile.sort_values(['CONSIDERING_CHANGE_OF_PLAN', 'CHURN']), [ 'CONSIDERING_CHANGE_OF_PLAN','CHURN'], gap = 0.01)\n",
    "plt.axhline(1- mobile['CHURN'].mean(), color = 'r')\n",
    "plt.show()"
   ]
  },
  {
   "cell_type": "markdown",
   "metadata": {},
   "source": [
    "시각화를 통해 파악한 내용"
   ]
  },
  {
   "cell_type": "markdown",
   "metadata": {},
   "source": [
    ">\n",
    "* 만족도 설문과 같이 생각보다 이탈은 많지 않다.\n",
    "* 변경 계획에서는 관련이 없는 편이다."
   ]
  },
  {
   "cell_type": "markdown",
   "metadata": {},
   "source": [
    "③ 가설검정(카이제곱검정)"
   ]
  },
  {
   "cell_type": "code",
   "execution_count": 24,
   "metadata": {},
   "outputs": [
    {
     "name": "stdout",
     "output_type": "stream",
     "text": [
      "교차표\n",
      " CONSIDERING_CHANGE_OF_PLAN    1     2    3     4     5\n",
      "CHURN                                                 \n",
      "0                           926  1823  456  3648  2278\n",
      "1                           878  1821  502  3493  2175\n",
      "----------------------------------------------------------------------------------------------------\n",
      "카이제곱통계량 5.421434419620689\n",
      "p-value 0.2467222586679969\n",
      "기대빈도\n",
      " [[ 915.12911111 1848.52022222  485.97211111 3622.47061111 2258.90794444]\n",
      " [ 888.87088889 1795.47977778  472.02788889 3518.52938889 2194.09205556]]\n",
      "----------------------------------------------------------------------------------------------------\n"
     ]
    },
    {
     "data": {
      "text/plain": [
       "(5.421434419620689,\n",
       " 0.2467222586679969,\n",
       " 4,\n",
       " array([[ 915.12911111, 1848.52022222,  485.97211111, 3622.47061111,\n",
       "         2258.90794444],\n",
       "        [ 888.87088889, 1795.47977778,  472.02788889, 3518.52938889,\n",
       "         2194.09205556]]))"
      ]
     },
     "execution_count": 24,
     "metadata": {},
     "output_type": "execute_result"
    }
   ],
   "source": [
    "# (data[target], data[feature]) \n",
    "table = pd.crosstab(mobile['CHURN'],mobile['CONSIDERING_CHANGE_OF_PLAN'])\n",
    "print('교차표\\n', table)\n",
    "print('-' * 100)\n",
    "\n",
    "# 카이제곱검정\n",
    "result = spst.chi2_contingency(table)\n",
    "print('카이제곱통계량', result[0])\n",
    "print('p-value', result[1])\n",
    "print('기대빈도\\n',result[3])\n",
    "print('-' * 100)\n",
    "\n",
    "result"
   ]
  },
  {
   "cell_type": "markdown",
   "metadata": {},
   "source": [
    "④ 시각화와 가설검정을 통해서 파악한 내용을 적어 봅시다."
   ]
  },
  {
   "cell_type": "markdown",
   "metadata": {},
   "source": [
    ">\n",
    "* 자유도는 변경계획 5개, 이탈 2개 => (5-1)*(2-) = 4\n",
    "* 카이제곱통계량은 자유도보다 2~3배 크지 않으므로, 차이가 없다.\n",
    "* p-value 또한, 0.24 > 0.05 차이가 없다.\n",
    "* 시각화와 마찬가지로 차이가 없다"
   ]
  },
  {
   "cell_type": "markdown",
   "metadata": {},
   "source": [
    "⑤ 추가분석\n",
    "* 변경계확과 만족도설문의 조합으로 이탈여부 분석    "
   ]
  },
  {
   "cell_type": "code",
   "execution_count": 27,
   "metadata": {},
   "outputs": [
    {
     "data": {
      "text/html": [
       "<div>\n",
       "<style scoped>\n",
       "    .dataframe tbody tr th:only-of-type {\n",
       "        vertical-align: middle;\n",
       "    }\n",
       "\n",
       "    .dataframe tbody tr th {\n",
       "        vertical-align: top;\n",
       "    }\n",
       "\n",
       "    .dataframe thead th {\n",
       "        text-align: right;\n",
       "    }\n",
       "</style>\n",
       "<table border=\"1\" class=\"dataframe\">\n",
       "  <thead>\n",
       "    <tr style=\"text-align: right;\">\n",
       "      <th></th>\n",
       "      <th>CONSIDERING_CHANGE_OF_PLAN</th>\n",
       "      <th>REPORTED_SATISFACTION</th>\n",
       "      <th>CHURN</th>\n",
       "    </tr>\n",
       "  </thead>\n",
       "  <tbody>\n",
       "    <tr>\n",
       "      <th>0</th>\n",
       "      <td>actively_looking_into_it</td>\n",
       "      <td>avg</td>\n",
       "      <td>0.454158</td>\n",
       "    </tr>\n",
       "    <tr>\n",
       "      <th>1</th>\n",
       "      <td>actively_looking_into_it</td>\n",
       "      <td>sat</td>\n",
       "      <td>0.471861</td>\n",
       "    </tr>\n",
       "    <tr>\n",
       "      <th>2</th>\n",
       "      <td>actively_looking_into_it</td>\n",
       "      <td>unsat</td>\n",
       "      <td>0.482418</td>\n",
       "    </tr>\n",
       "    <tr>\n",
       "      <th>3</th>\n",
       "      <td>actively_looking_into_it</td>\n",
       "      <td>very_sat</td>\n",
       "      <td>0.507194</td>\n",
       "    </tr>\n",
       "    <tr>\n",
       "      <th>4</th>\n",
       "      <td>actively_looking_into_it</td>\n",
       "      <td>very_unsat</td>\n",
       "      <td>0.491299</td>\n",
       "    </tr>\n",
       "    <tr>\n",
       "      <th>5</th>\n",
       "      <td>considering</td>\n",
       "      <td>avg</td>\n",
       "      <td>0.461426</td>\n",
       "    </tr>\n",
       "    <tr>\n",
       "      <th>6</th>\n",
       "      <td>considering</td>\n",
       "      <td>sat</td>\n",
       "      <td>0.452316</td>\n",
       "    </tr>\n",
       "    <tr>\n",
       "      <th>7</th>\n",
       "      <td>considering</td>\n",
       "      <td>unsat</td>\n",
       "      <td>0.493581</td>\n",
       "    </tr>\n",
       "    <tr>\n",
       "      <th>8</th>\n",
       "      <td>considering</td>\n",
       "      <td>very_sat</td>\n",
       "      <td>0.481828</td>\n",
       "    </tr>\n",
       "    <tr>\n",
       "      <th>9</th>\n",
       "      <td>considering</td>\n",
       "      <td>very_unsat</td>\n",
       "      <td>0.502807</td>\n",
       "    </tr>\n",
       "    <tr>\n",
       "      <th>10</th>\n",
       "      <td>never_thought</td>\n",
       "      <td>avg</td>\n",
       "      <td>0.422680</td>\n",
       "    </tr>\n",
       "    <tr>\n",
       "      <th>11</th>\n",
       "      <td>never_thought</td>\n",
       "      <td>sat</td>\n",
       "      <td>0.471910</td>\n",
       "    </tr>\n",
       "    <tr>\n",
       "      <th>12</th>\n",
       "      <td>never_thought</td>\n",
       "      <td>unsat</td>\n",
       "      <td>0.508571</td>\n",
       "    </tr>\n",
       "    <tr>\n",
       "      <th>13</th>\n",
       "      <td>never_thought</td>\n",
       "      <td>very_sat</td>\n",
       "      <td>0.471459</td>\n",
       "    </tr>\n",
       "    <tr>\n",
       "      <th>14</th>\n",
       "      <td>never_thought</td>\n",
       "      <td>very_unsat</td>\n",
       "      <td>0.505764</td>\n",
       "    </tr>\n",
       "    <tr>\n",
       "      <th>15</th>\n",
       "      <td>no</td>\n",
       "      <td>avg</td>\n",
       "      <td>0.517426</td>\n",
       "    </tr>\n",
       "    <tr>\n",
       "      <th>16</th>\n",
       "      <td>no</td>\n",
       "      <td>sat</td>\n",
       "      <td>0.476684</td>\n",
       "    </tr>\n",
       "    <tr>\n",
       "      <th>17</th>\n",
       "      <td>no</td>\n",
       "      <td>unsat</td>\n",
       "      <td>0.523240</td>\n",
       "    </tr>\n",
       "    <tr>\n",
       "      <th>18</th>\n",
       "      <td>no</td>\n",
       "      <td>very_sat</td>\n",
       "      <td>0.492424</td>\n",
       "    </tr>\n",
       "    <tr>\n",
       "      <th>19</th>\n",
       "      <td>no</td>\n",
       "      <td>very_unsat</td>\n",
       "      <td>0.489255</td>\n",
       "    </tr>\n",
       "    <tr>\n",
       "      <th>20</th>\n",
       "      <td>perhaps</td>\n",
       "      <td>avg</td>\n",
       "      <td>0.590361</td>\n",
       "    </tr>\n",
       "    <tr>\n",
       "      <th>21</th>\n",
       "      <td>perhaps</td>\n",
       "      <td>sat</td>\n",
       "      <td>0.596154</td>\n",
       "    </tr>\n",
       "    <tr>\n",
       "      <th>22</th>\n",
       "      <td>perhaps</td>\n",
       "      <td>unsat</td>\n",
       "      <td>0.542857</td>\n",
       "    </tr>\n",
       "    <tr>\n",
       "      <th>23</th>\n",
       "      <td>perhaps</td>\n",
       "      <td>very_sat</td>\n",
       "      <td>0.468354</td>\n",
       "    </tr>\n",
       "    <tr>\n",
       "      <th>24</th>\n",
       "      <td>perhaps</td>\n",
       "      <td>very_unsat</td>\n",
       "      <td>0.526961</td>\n",
       "    </tr>\n",
       "  </tbody>\n",
       "</table>\n",
       "</div>"
      ],
      "text/plain": [
       "   CONSIDERING_CHANGE_OF_PLAN REPORTED_SATISFACTION     CHURN\n",
       "0    actively_looking_into_it                   avg  0.454158\n",
       "1    actively_looking_into_it                   sat  0.471861\n",
       "2    actively_looking_into_it                 unsat  0.482418\n",
       "3    actively_looking_into_it              very_sat  0.507194\n",
       "4    actively_looking_into_it            very_unsat  0.491299\n",
       "5                 considering                   avg  0.461426\n",
       "6                 considering                   sat  0.452316\n",
       "7                 considering                 unsat  0.493581\n",
       "8                 considering              very_sat  0.481828\n",
       "9                 considering            very_unsat  0.502807\n",
       "10              never_thought                   avg  0.422680\n",
       "11              never_thought                   sat  0.471910\n",
       "12              never_thought                 unsat  0.508571\n",
       "13              never_thought              very_sat  0.471459\n",
       "14              never_thought            very_unsat  0.505764\n",
       "15                         no                   avg  0.517426\n",
       "16                         no                   sat  0.476684\n",
       "17                         no                 unsat  0.523240\n",
       "18                         no              very_sat  0.492424\n",
       "19                         no            very_unsat  0.489255\n",
       "20                    perhaps                   avg  0.590361\n",
       "21                    perhaps                   sat  0.596154\n",
       "22                    perhaps                 unsat  0.542857\n",
       "23                    perhaps              very_sat  0.468354\n",
       "24                    perhaps            very_unsat  0.526961"
      ]
     },
     "execution_count": 27,
     "metadata": {},
     "output_type": "execute_result"
    }
   ],
   "source": [
    "mobile.groupby(['CONSIDERING_CHANGE_OF_PLAN','REPORTED_SATISFACTION'],as_index=False)['CHURN'].mean()"
   ]
  },
  {
   "cell_type": "code",
   "execution_count": 28,
   "metadata": {},
   "outputs": [
    {
     "data": {
      "text/html": [
       "<div>\n",
       "<style scoped>\n",
       "    .dataframe tbody tr th:only-of-type {\n",
       "        vertical-align: middle;\n",
       "    }\n",
       "\n",
       "    .dataframe tbody tr th {\n",
       "        vertical-align: top;\n",
       "    }\n",
       "\n",
       "    .dataframe thead th {\n",
       "        text-align: right;\n",
       "    }\n",
       "</style>\n",
       "<table border=\"1\" class=\"dataframe\">\n",
       "  <thead>\n",
       "    <tr style=\"text-align: right;\">\n",
       "      <th></th>\n",
       "      <th>COLLEGE</th>\n",
       "      <th>INCOME</th>\n",
       "      <th>OVERAGE</th>\n",
       "      <th>LEFTOVER</th>\n",
       "      <th>HOUSE</th>\n",
       "      <th>HANDSET_PRICE</th>\n",
       "      <th>AVERAGE_CALL_DURATION</th>\n",
       "      <th>REPORTED_SATISFACTION</th>\n",
       "      <th>CONSIDERING_CHANGE_OF_PLAN</th>\n",
       "      <th>CHURN</th>\n",
       "      <th>RICH</th>\n",
       "      <th>PLAN</th>\n",
       "    </tr>\n",
       "  </thead>\n",
       "  <tbody>\n",
       "    <tr>\n",
       "      <th>9092</th>\n",
       "      <td>0</td>\n",
       "      <td>159983</td>\n",
       "      <td>49</td>\n",
       "      <td>19</td>\n",
       "      <td>581215.0</td>\n",
       "      <td>748</td>\n",
       "      <td>6</td>\n",
       "      <td>very_sat</td>\n",
       "      <td>no</td>\n",
       "      <td>0</td>\n",
       "      <td>A</td>\n",
       "      <td>1</td>\n",
       "    </tr>\n",
       "    <tr>\n",
       "      <th>13298</th>\n",
       "      <td>0</td>\n",
       "      <td>159954</td>\n",
       "      <td>26</td>\n",
       "      <td>24</td>\n",
       "      <td>299070.0</td>\n",
       "      <td>804</td>\n",
       "      <td>1</td>\n",
       "      <td>very_unsat</td>\n",
       "      <td>considering</td>\n",
       "      <td>0</td>\n",
       "      <td>A</td>\n",
       "      <td>4</td>\n",
       "    </tr>\n",
       "    <tr>\n",
       "      <th>17302</th>\n",
       "      <td>0</td>\n",
       "      <td>159945</td>\n",
       "      <td>188</td>\n",
       "      <td>0</td>\n",
       "      <td>169027.0</td>\n",
       "      <td>569</td>\n",
       "      <td>11</td>\n",
       "      <td>unsat</td>\n",
       "      <td>actively_looking_into_it</td>\n",
       "      <td>1</td>\n",
       "      <td>A</td>\n",
       "      <td>5</td>\n",
       "    </tr>\n",
       "    <tr>\n",
       "      <th>5019</th>\n",
       "      <td>0</td>\n",
       "      <td>159944</td>\n",
       "      <td>199</td>\n",
       "      <td>11</td>\n",
       "      <td>986345.0</td>\n",
       "      <td>899</td>\n",
       "      <td>6</td>\n",
       "      <td>very_unsat</td>\n",
       "      <td>perhaps</td>\n",
       "      <td>1</td>\n",
       "      <td>A</td>\n",
       "      <td>4</td>\n",
       "    </tr>\n",
       "    <tr>\n",
       "      <th>13532</th>\n",
       "      <td>0</td>\n",
       "      <td>159941</td>\n",
       "      <td>77</td>\n",
       "      <td>8</td>\n",
       "      <td>382517.0</td>\n",
       "      <td>801</td>\n",
       "      <td>4</td>\n",
       "      <td>very_sat</td>\n",
       "      <td>actively_looking_into_it</td>\n",
       "      <td>1</td>\n",
       "      <td>A</td>\n",
       "      <td>5</td>\n",
       "    </tr>\n",
       "    <tr>\n",
       "      <th>15734</th>\n",
       "      <td>0</td>\n",
       "      <td>159938</td>\n",
       "      <td>59</td>\n",
       "      <td>61</td>\n",
       "      <td>363388.0</td>\n",
       "      <td>870</td>\n",
       "      <td>1</td>\n",
       "      <td>avg</td>\n",
       "      <td>considering</td>\n",
       "      <td>1</td>\n",
       "      <td>A</td>\n",
       "      <td>4</td>\n",
       "    </tr>\n",
       "    <tr>\n",
       "      <th>2301</th>\n",
       "      <td>0</td>\n",
       "      <td>159934</td>\n",
       "      <td>165</td>\n",
       "      <td>14</td>\n",
       "      <td>290209.0</td>\n",
       "      <td>778</td>\n",
       "      <td>5</td>\n",
       "      <td>sat</td>\n",
       "      <td>never_thought</td>\n",
       "      <td>1</td>\n",
       "      <td>A</td>\n",
       "      <td>1</td>\n",
       "    </tr>\n",
       "    <tr>\n",
       "      <th>10070</th>\n",
       "      <td>0</td>\n",
       "      <td>159934</td>\n",
       "      <td>0</td>\n",
       "      <td>77</td>\n",
       "      <td>510251.0</td>\n",
       "      <td>727</td>\n",
       "      <td>8</td>\n",
       "      <td>unsat</td>\n",
       "      <td>no</td>\n",
       "      <td>1</td>\n",
       "      <td>A</td>\n",
       "      <td>3</td>\n",
       "    </tr>\n",
       "    <tr>\n",
       "      <th>8074</th>\n",
       "      <td>1</td>\n",
       "      <td>159932</td>\n",
       "      <td>163</td>\n",
       "      <td>77</td>\n",
       "      <td>316025.0</td>\n",
       "      <td>835</td>\n",
       "      <td>1</td>\n",
       "      <td>avg</td>\n",
       "      <td>never_thought</td>\n",
       "      <td>1</td>\n",
       "      <td>A</td>\n",
       "      <td>1</td>\n",
       "    </tr>\n",
       "    <tr>\n",
       "      <th>4833</th>\n",
       "      <td>1</td>\n",
       "      <td>159912</td>\n",
       "      <td>165</td>\n",
       "      <td>79</td>\n",
       "      <td>482981.0</td>\n",
       "      <td>624</td>\n",
       "      <td>1</td>\n",
       "      <td>very_sat</td>\n",
       "      <td>never_thought</td>\n",
       "      <td>1</td>\n",
       "      <td>A</td>\n",
       "      <td>1</td>\n",
       "    </tr>\n",
       "    <tr>\n",
       "      <th>10184</th>\n",
       "      <td>1</td>\n",
       "      <td>159904</td>\n",
       "      <td>227</td>\n",
       "      <td>67</td>\n",
       "      <td>477339.0</td>\n",
       "      <td>889</td>\n",
       "      <td>1</td>\n",
       "      <td>very_unsat</td>\n",
       "      <td>actively_looking_into_it</td>\n",
       "      <td>1</td>\n",
       "      <td>A</td>\n",
       "      <td>5</td>\n",
       "    </tr>\n",
       "    <tr>\n",
       "      <th>7617</th>\n",
       "      <td>0</td>\n",
       "      <td>159896</td>\n",
       "      <td>39</td>\n",
       "      <td>0</td>\n",
       "      <td>151009.0</td>\n",
       "      <td>521</td>\n",
       "      <td>11</td>\n",
       "      <td>very_sat</td>\n",
       "      <td>no</td>\n",
       "      <td>1</td>\n",
       "      <td>A</td>\n",
       "      <td>1</td>\n",
       "    </tr>\n",
       "    <tr>\n",
       "      <th>14732</th>\n",
       "      <td>1</td>\n",
       "      <td>159893</td>\n",
       "      <td>85</td>\n",
       "      <td>0</td>\n",
       "      <td>586919.0</td>\n",
       "      <td>859</td>\n",
       "      <td>9</td>\n",
       "      <td>unsat</td>\n",
       "      <td>actively_looking_into_it</td>\n",
       "      <td>0</td>\n",
       "      <td>A</td>\n",
       "      <td>5</td>\n",
       "    </tr>\n",
       "    <tr>\n",
       "      <th>17400</th>\n",
       "      <td>1</td>\n",
       "      <td>159877</td>\n",
       "      <td>162</td>\n",
       "      <td>41</td>\n",
       "      <td>765623.0</td>\n",
       "      <td>499</td>\n",
       "      <td>2</td>\n",
       "      <td>unsat</td>\n",
       "      <td>actively_looking_into_it</td>\n",
       "      <td>1</td>\n",
       "      <td>A</td>\n",
       "      <td>5</td>\n",
       "    </tr>\n",
       "    <tr>\n",
       "      <th>16657</th>\n",
       "      <td>0</td>\n",
       "      <td>159875</td>\n",
       "      <td>257</td>\n",
       "      <td>18</td>\n",
       "      <td>381415.0</td>\n",
       "      <td>760</td>\n",
       "      <td>2</td>\n",
       "      <td>very_unsat</td>\n",
       "      <td>never_thought</td>\n",
       "      <td>1</td>\n",
       "      <td>A</td>\n",
       "      <td>2</td>\n",
       "    </tr>\n",
       "  </tbody>\n",
       "</table>\n",
       "</div>"
      ],
      "text/plain": [
       "       COLLEGE  INCOME  OVERAGE  LEFTOVER     HOUSE  HANDSET_PRICE  \\\n",
       "9092         0  159983       49        19  581215.0            748   \n",
       "13298        0  159954       26        24  299070.0            804   \n",
       "17302        0  159945      188         0  169027.0            569   \n",
       "5019         0  159944      199        11  986345.0            899   \n",
       "13532        0  159941       77         8  382517.0            801   \n",
       "15734        0  159938       59        61  363388.0            870   \n",
       "2301         0  159934      165        14  290209.0            778   \n",
       "10070        0  159934        0        77  510251.0            727   \n",
       "8074         1  159932      163        77  316025.0            835   \n",
       "4833         1  159912      165        79  482981.0            624   \n",
       "10184        1  159904      227        67  477339.0            889   \n",
       "7617         0  159896       39         0  151009.0            521   \n",
       "14732        1  159893       85         0  586919.0            859   \n",
       "17400        1  159877      162        41  765623.0            499   \n",
       "16657        0  159875      257        18  381415.0            760   \n",
       "\n",
       "       AVERAGE_CALL_DURATION REPORTED_SATISFACTION CONSIDERING_CHANGE_OF_PLAN  \\\n",
       "9092                       6              very_sat                         no   \n",
       "13298                      1            very_unsat                considering   \n",
       "17302                     11                 unsat   actively_looking_into_it   \n",
       "5019                       6            very_unsat                    perhaps   \n",
       "13532                      4              very_sat   actively_looking_into_it   \n",
       "15734                      1                   avg                considering   \n",
       "2301                       5                   sat              never_thought   \n",
       "10070                      8                 unsat                         no   \n",
       "8074                       1                   avg              never_thought   \n",
       "4833                       1              very_sat              never_thought   \n",
       "10184                      1            very_unsat   actively_looking_into_it   \n",
       "7617                      11              very_sat                         no   \n",
       "14732                      9                 unsat   actively_looking_into_it   \n",
       "17400                      2                 unsat   actively_looking_into_it   \n",
       "16657                      2            very_unsat              never_thought   \n",
       "\n",
       "       CHURN RICH PLAN  \n",
       "9092       0    A    1  \n",
       "13298      0    A    4  \n",
       "17302      1    A    5  \n",
       "5019       1    A    4  \n",
       "13532      1    A    5  \n",
       "15734      1    A    4  \n",
       "2301       1    A    1  \n",
       "10070      1    A    3  \n",
       "8074       1    A    1  \n",
       "4833       1    A    1  \n",
       "10184      1    A    5  \n",
       "7617       1    A    1  \n",
       "14732      0    A    5  \n",
       "17400      1    A    5  \n",
       "16657      1    A    2  "
      ]
     },
     "execution_count": 28,
     "metadata": {},
     "output_type": "execute_result"
    }
   ],
   "source": [
    "mobile['PLAN'] = '5' \n",
    "mobile.loc[(mobile['CONSIDERING_CHANGE_OF_PLAN'] =='never_thought') & (mobile['REPORTED_SATISFACTION']=='very_sat'), 'PLAN'] = '1'\n",
    "mobile.loc[(mobile['CONSIDERING_CHANGE_OF_PLAN'] =='never_thought') & (mobile['REPORTED_SATISFACTION']=='sat'), 'PLAN'] = '1'\n",
    "mobile.loc[(mobile['CONSIDERING_CHANGE_OF_PLAN'] =='never_thought') & (mobile['REPORTED_SATISFACTION']=='avg'), 'PLAN'] = '1'\n",
    "mobile.loc[(mobile['CONSIDERING_CHANGE_OF_PLAN'] =='never_thought') & (mobile['REPORTED_SATISFACTION']=='unsat'), 'PLAN'] = '2'\n",
    "mobile.loc[(mobile['CONSIDERING_CHANGE_OF_PLAN'] =='never_thought') & (mobile['REPORTED_SATISFACTION']=='very_unsat'), 'PLAN'] = '2'\n",
    "\n",
    "mobile.loc[(mobile['CONSIDERING_CHANGE_OF_PLAN'] == 'no') & (mobile['REPORTED_SATISFACTION']=='very_sat'), 'PLAN'] = '1'\n",
    "mobile.loc[(mobile['CONSIDERING_CHANGE_OF_PLAN'] == 'no') & (mobile['REPORTED_SATISFACTION']=='sat'), 'PLAN'] = '1'\n",
    "mobile.loc[(mobile['CONSIDERING_CHANGE_OF_PLAN'] == 'no') & (mobile['REPORTED_SATISFACTION']=='avg'), 'PLAN'] = '1'\n",
    "mobile.loc[(mobile['CONSIDERING_CHANGE_OF_PLAN'] == 'no') & (mobile['REPORTED_SATISFACTION']=='unsat'), 'PLAN'] = '3'\n",
    "mobile.loc[(mobile['CONSIDERING_CHANGE_OF_PLAN'] == 'no') & (mobile['REPORTED_SATISFACTION']=='very_unsat'), 'PLAN'] = '3'\n",
    "\n",
    "mobile.loc[(mobile['CONSIDERING_CHANGE_OF_PLAN'] == 'perhaps') & (mobile['REPORTED_SATISFACTION']== 'very_sat'), 'PLAN'] = '2'\n",
    "mobile.loc[(mobile['CONSIDERING_CHANGE_OF_PLAN'] == 'perhaps') & (mobile['REPORTED_SATISFACTION']== 'sat'), 'PLAN'] = '2'\n",
    "mobile.loc[(mobile['CONSIDERING_CHANGE_OF_PLAN'] == 'perhaps') & (mobile['REPORTED_SATISFACTION']== 'avg'), 'PLAN'] = '2'\n",
    "mobile.loc[(mobile['CONSIDERING_CHANGE_OF_PLAN'] == 'perhaps') & (mobile['REPORTED_SATISFACTION']== 'unsat'), 'PLAN'] = '4'\n",
    "mobile.loc[(mobile['CONSIDERING_CHANGE_OF_PLAN'] == 'perhaps') & (mobile['REPORTED_SATISFACTION']== 'very_unsat'), 'PLAN'] = '4'\n",
    "\n",
    "mobile.loc[(mobile['CONSIDERING_CHANGE_OF_PLAN'] == 'considering') & (mobile['REPORTED_SATISFACTION']=='very_sat'), 'PLAN'] = '3'\n",
    "mobile.loc[(mobile['CONSIDERING_CHANGE_OF_PLAN'] == 'considering') & (mobile['REPORTED_SATISFACTION']=='sat'), 'PLAN'] = '3'\n",
    "mobile.loc[(mobile['CONSIDERING_CHANGE_OF_PLAN'] == 'considering') & (mobile['REPORTED_SATISFACTION']=='avg'), 'PLAN'] = '4'\n",
    "mobile.loc[(mobile['CONSIDERING_CHANGE_OF_PLAN'] == 'considering') & (mobile['REPORTED_SATISFACTION']=='very_unsat'), 'PLAN'] = '4'\n",
    "mobile.loc[(mobile['CONSIDERING_CHANGE_OF_PLAN'] == 'considering') & (mobile['REPORTED_SATISFACTION']=='unsat'), 'PLAN'] = '4'\n",
    "\n",
    "\n",
    "\n",
    "mobile.sort_values(by='INCOME', ascending=False).head(15)\n",
    "# mobile.head(15)"
   ]
  },
  {
   "cell_type": "markdown",
   "metadata": {},
   "source": [
    "* 바꾸지 않을 확률이 90퍼 이상인 고객들은 1, 바꾸지않을 확률이 70퍼 이상은 2를 사용 하였고, \n",
    "* 바꿀 가능성이 적은 고객은 3, 많은 고객들은 4,5를 사용 하였다."
   ]
  },
  {
   "cell_type": "code",
   "execution_count": 37,
   "metadata": {},
   "outputs": [
    {
     "data": {
      "text/html": [
       "<div>\n",
       "<style scoped>\n",
       "    .dataframe tbody tr th:only-of-type {\n",
       "        vertical-align: middle;\n",
       "    }\n",
       "\n",
       "    .dataframe tbody tr th {\n",
       "        vertical-align: top;\n",
       "    }\n",
       "\n",
       "    .dataframe thead th {\n",
       "        text-align: right;\n",
       "    }\n",
       "</style>\n",
       "<table border=\"1\" class=\"dataframe\">\n",
       "  <thead>\n",
       "    <tr style=\"text-align: right;\">\n",
       "      <th></th>\n",
       "      <th>COLLEGE</th>\n",
       "      <th>INCOME</th>\n",
       "      <th>OVERAGE</th>\n",
       "      <th>LEFTOVER</th>\n",
       "      <th>HOUSE</th>\n",
       "      <th>HANDSET_PRICE</th>\n",
       "      <th>AVERAGE_CALL_DURATION</th>\n",
       "      <th>REPORTED_SATISFACTION</th>\n",
       "      <th>CONSIDERING_CHANGE_OF_PLAN</th>\n",
       "      <th>CHURN</th>\n",
       "      <th>RICH</th>\n",
       "      <th>PLAN</th>\n",
       "    </tr>\n",
       "  </thead>\n",
       "  <tbody>\n",
       "    <tr>\n",
       "      <th>7</th>\n",
       "      <td>1</td>\n",
       "      <td>63338</td>\n",
       "      <td>50</td>\n",
       "      <td>57</td>\n",
       "      <td>394791.0</td>\n",
       "      <td>362</td>\n",
       "      <td>1</td>\n",
       "      <td>sat</td>\n",
       "      <td>no</td>\n",
       "      <td>0</td>\n",
       "      <td>D</td>\n",
       "      <td>1</td>\n",
       "    </tr>\n",
       "    <tr>\n",
       "      <th>12</th>\n",
       "      <td>1</td>\n",
       "      <td>31749</td>\n",
       "      <td>51</td>\n",
       "      <td>0</td>\n",
       "      <td>388298.0</td>\n",
       "      <td>220</td>\n",
       "      <td>2</td>\n",
       "      <td>very_sat</td>\n",
       "      <td>no</td>\n",
       "      <td>1</td>\n",
       "      <td>F</td>\n",
       "      <td>1</td>\n",
       "    </tr>\n",
       "    <tr>\n",
       "      <th>21</th>\n",
       "      <td>1</td>\n",
       "      <td>151060</td>\n",
       "      <td>23</td>\n",
       "      <td>55</td>\n",
       "      <td>356870.0</td>\n",
       "      <td>517</td>\n",
       "      <td>1</td>\n",
       "      <td>avg</td>\n",
       "      <td>no</td>\n",
       "      <td>1</td>\n",
       "      <td>A</td>\n",
       "      <td>1</td>\n",
       "    </tr>\n",
       "    <tr>\n",
       "      <th>24</th>\n",
       "      <td>0</td>\n",
       "      <td>144913</td>\n",
       "      <td>0</td>\n",
       "      <td>15</td>\n",
       "      <td>310943.0</td>\n",
       "      <td>768</td>\n",
       "      <td>6</td>\n",
       "      <td>avg</td>\n",
       "      <td>no</td>\n",
       "      <td>0</td>\n",
       "      <td>A</td>\n",
       "      <td>1</td>\n",
       "    </tr>\n",
       "    <tr>\n",
       "      <th>38</th>\n",
       "      <td>0</td>\n",
       "      <td>129806</td>\n",
       "      <td>0</td>\n",
       "      <td>15</td>\n",
       "      <td>345692.0</td>\n",
       "      <td>498</td>\n",
       "      <td>6</td>\n",
       "      <td>very_sat</td>\n",
       "      <td>never_thought</td>\n",
       "      <td>0</td>\n",
       "      <td>B</td>\n",
       "      <td>1</td>\n",
       "    </tr>\n",
       "    <tr>\n",
       "      <th>59</th>\n",
       "      <td>0</td>\n",
       "      <td>78777</td>\n",
       "      <td>32</td>\n",
       "      <td>87</td>\n",
       "      <td>667417.0</td>\n",
       "      <td>265</td>\n",
       "      <td>2</td>\n",
       "      <td>sat</td>\n",
       "      <td>no</td>\n",
       "      <td>0</td>\n",
       "      <td>D</td>\n",
       "      <td>1</td>\n",
       "    </tr>\n",
       "    <tr>\n",
       "      <th>66</th>\n",
       "      <td>1</td>\n",
       "      <td>49046</td>\n",
       "      <td>74</td>\n",
       "      <td>37</td>\n",
       "      <td>619694.0</td>\n",
       "      <td>221</td>\n",
       "      <td>2</td>\n",
       "      <td>avg</td>\n",
       "      <td>no</td>\n",
       "      <td>0</td>\n",
       "      <td>E</td>\n",
       "      <td>1</td>\n",
       "    </tr>\n",
       "    <tr>\n",
       "      <th>71</th>\n",
       "      <td>0</td>\n",
       "      <td>136220</td>\n",
       "      <td>90</td>\n",
       "      <td>58</td>\n",
       "      <td>171255.0</td>\n",
       "      <td>471</td>\n",
       "      <td>1</td>\n",
       "      <td>sat</td>\n",
       "      <td>no</td>\n",
       "      <td>1</td>\n",
       "      <td>A</td>\n",
       "      <td>1</td>\n",
       "    </tr>\n",
       "    <tr>\n",
       "      <th>88</th>\n",
       "      <td>1</td>\n",
       "      <td>64777</td>\n",
       "      <td>0</td>\n",
       "      <td>8</td>\n",
       "      <td>720317.0</td>\n",
       "      <td>289</td>\n",
       "      <td>6</td>\n",
       "      <td>very_sat</td>\n",
       "      <td>never_thought</td>\n",
       "      <td>0</td>\n",
       "      <td>D</td>\n",
       "      <td>1</td>\n",
       "    </tr>\n",
       "    <tr>\n",
       "      <th>97</th>\n",
       "      <td>0</td>\n",
       "      <td>136803</td>\n",
       "      <td>174</td>\n",
       "      <td>23</td>\n",
       "      <td>437576.0</td>\n",
       "      <td>143</td>\n",
       "      <td>5</td>\n",
       "      <td>avg</td>\n",
       "      <td>no</td>\n",
       "      <td>1</td>\n",
       "      <td>A</td>\n",
       "      <td>1</td>\n",
       "    </tr>\n",
       "    <tr>\n",
       "      <th>101</th>\n",
       "      <td>1</td>\n",
       "      <td>37828</td>\n",
       "      <td>57</td>\n",
       "      <td>0</td>\n",
       "      <td>222546.0</td>\n",
       "      <td>219</td>\n",
       "      <td>5</td>\n",
       "      <td>avg</td>\n",
       "      <td>no</td>\n",
       "      <td>1</td>\n",
       "      <td>F</td>\n",
       "      <td>1</td>\n",
       "    </tr>\n",
       "    <tr>\n",
       "      <th>102</th>\n",
       "      <td>0</td>\n",
       "      <td>50343</td>\n",
       "      <td>0</td>\n",
       "      <td>13</td>\n",
       "      <td>902022.0</td>\n",
       "      <td>338</td>\n",
       "      <td>6</td>\n",
       "      <td>sat</td>\n",
       "      <td>no</td>\n",
       "      <td>0</td>\n",
       "      <td>E</td>\n",
       "      <td>1</td>\n",
       "    </tr>\n",
       "    <tr>\n",
       "      <th>115</th>\n",
       "      <td>0</td>\n",
       "      <td>60641</td>\n",
       "      <td>33</td>\n",
       "      <td>0</td>\n",
       "      <td>987364.0</td>\n",
       "      <td>397</td>\n",
       "      <td>12</td>\n",
       "      <td>very_sat</td>\n",
       "      <td>never_thought</td>\n",
       "      <td>0</td>\n",
       "      <td>D</td>\n",
       "      <td>1</td>\n",
       "    </tr>\n",
       "    <tr>\n",
       "      <th>122</th>\n",
       "      <td>1</td>\n",
       "      <td>135177</td>\n",
       "      <td>38</td>\n",
       "      <td>0</td>\n",
       "      <td>214228.0</td>\n",
       "      <td>703</td>\n",
       "      <td>15</td>\n",
       "      <td>very_sat</td>\n",
       "      <td>never_thought</td>\n",
       "      <td>1</td>\n",
       "      <td>A</td>\n",
       "      <td>1</td>\n",
       "    </tr>\n",
       "    <tr>\n",
       "      <th>131</th>\n",
       "      <td>0</td>\n",
       "      <td>55749</td>\n",
       "      <td>193</td>\n",
       "      <td>66</td>\n",
       "      <td>258181.0</td>\n",
       "      <td>308</td>\n",
       "      <td>2</td>\n",
       "      <td>very_sat</td>\n",
       "      <td>no</td>\n",
       "      <td>1</td>\n",
       "      <td>E</td>\n",
       "      <td>1</td>\n",
       "    </tr>\n",
       "    <tr>\n",
       "      <th>145</th>\n",
       "      <td>1</td>\n",
       "      <td>106353</td>\n",
       "      <td>54</td>\n",
       "      <td>43</td>\n",
       "      <td>478045.0</td>\n",
       "      <td>568</td>\n",
       "      <td>2</td>\n",
       "      <td>very_sat</td>\n",
       "      <td>no</td>\n",
       "      <td>1</td>\n",
       "      <td>B</td>\n",
       "      <td>1</td>\n",
       "    </tr>\n",
       "    <tr>\n",
       "      <th>152</th>\n",
       "      <td>0</td>\n",
       "      <td>70496</td>\n",
       "      <td>191</td>\n",
       "      <td>11</td>\n",
       "      <td>160107.0</td>\n",
       "      <td>262</td>\n",
       "      <td>5</td>\n",
       "      <td>avg</td>\n",
       "      <td>no</td>\n",
       "      <td>1</td>\n",
       "      <td>D</td>\n",
       "      <td>1</td>\n",
       "    </tr>\n",
       "    <tr>\n",
       "      <th>158</th>\n",
       "      <td>0</td>\n",
       "      <td>74897</td>\n",
       "      <td>0</td>\n",
       "      <td>11</td>\n",
       "      <td>244333.0</td>\n",
       "      <td>248</td>\n",
       "      <td>4</td>\n",
       "      <td>very_sat</td>\n",
       "      <td>no</td>\n",
       "      <td>0</td>\n",
       "      <td>D</td>\n",
       "      <td>1</td>\n",
       "    </tr>\n",
       "    <tr>\n",
       "      <th>161</th>\n",
       "      <td>1</td>\n",
       "      <td>69957</td>\n",
       "      <td>240</td>\n",
       "      <td>16</td>\n",
       "      <td>956392.0</td>\n",
       "      <td>345</td>\n",
       "      <td>5</td>\n",
       "      <td>very_sat</td>\n",
       "      <td>never_thought</td>\n",
       "      <td>0</td>\n",
       "      <td>D</td>\n",
       "      <td>1</td>\n",
       "    </tr>\n",
       "    <tr>\n",
       "      <th>174</th>\n",
       "      <td>0</td>\n",
       "      <td>132305</td>\n",
       "      <td>180</td>\n",
       "      <td>0</td>\n",
       "      <td>801996.0</td>\n",
       "      <td>742</td>\n",
       "      <td>11</td>\n",
       "      <td>avg</td>\n",
       "      <td>no</td>\n",
       "      <td>1</td>\n",
       "      <td>A</td>\n",
       "      <td>1</td>\n",
       "    </tr>\n",
       "    <tr>\n",
       "      <th>177</th>\n",
       "      <td>0</td>\n",
       "      <td>107481</td>\n",
       "      <td>63</td>\n",
       "      <td>31</td>\n",
       "      <td>162506.0</td>\n",
       "      <td>451</td>\n",
       "      <td>1</td>\n",
       "      <td>sat</td>\n",
       "      <td>no</td>\n",
       "      <td>1</td>\n",
       "      <td>B</td>\n",
       "      <td>1</td>\n",
       "    </tr>\n",
       "    <tr>\n",
       "      <th>186</th>\n",
       "      <td>0</td>\n",
       "      <td>144306</td>\n",
       "      <td>213</td>\n",
       "      <td>58</td>\n",
       "      <td>176213.0</td>\n",
       "      <td>899</td>\n",
       "      <td>2</td>\n",
       "      <td>avg</td>\n",
       "      <td>no</td>\n",
       "      <td>1</td>\n",
       "      <td>A</td>\n",
       "      <td>1</td>\n",
       "    </tr>\n",
       "    <tr>\n",
       "      <th>187</th>\n",
       "      <td>1</td>\n",
       "      <td>65410</td>\n",
       "      <td>0</td>\n",
       "      <td>32</td>\n",
       "      <td>259440.0</td>\n",
       "      <td>361</td>\n",
       "      <td>2</td>\n",
       "      <td>very_sat</td>\n",
       "      <td>no</td>\n",
       "      <td>1</td>\n",
       "      <td>D</td>\n",
       "      <td>1</td>\n",
       "    </tr>\n",
       "    <tr>\n",
       "      <th>191</th>\n",
       "      <td>0</td>\n",
       "      <td>129579</td>\n",
       "      <td>229</td>\n",
       "      <td>15</td>\n",
       "      <td>693674.0</td>\n",
       "      <td>447</td>\n",
       "      <td>5</td>\n",
       "      <td>avg</td>\n",
       "      <td>no</td>\n",
       "      <td>1</td>\n",
       "      <td>B</td>\n",
       "      <td>1</td>\n",
       "    </tr>\n",
       "    <tr>\n",
       "      <th>192</th>\n",
       "      <td>0</td>\n",
       "      <td>110522</td>\n",
       "      <td>0</td>\n",
       "      <td>9</td>\n",
       "      <td>166351.0</td>\n",
       "      <td>392</td>\n",
       "      <td>4</td>\n",
       "      <td>very_sat</td>\n",
       "      <td>no</td>\n",
       "      <td>0</td>\n",
       "      <td>B</td>\n",
       "      <td>1</td>\n",
       "    </tr>\n",
       "    <tr>\n",
       "      <th>195</th>\n",
       "      <td>1</td>\n",
       "      <td>22854</td>\n",
       "      <td>0</td>\n",
       "      <td>16</td>\n",
       "      <td>717330.0</td>\n",
       "      <td>232</td>\n",
       "      <td>6</td>\n",
       "      <td>sat</td>\n",
       "      <td>no</td>\n",
       "      <td>0</td>\n",
       "      <td>F</td>\n",
       "      <td>1</td>\n",
       "    </tr>\n",
       "    <tr>\n",
       "      <th>205</th>\n",
       "      <td>0</td>\n",
       "      <td>35845</td>\n",
       "      <td>218</td>\n",
       "      <td>0</td>\n",
       "      <td>213438.0</td>\n",
       "      <td>250</td>\n",
       "      <td>15</td>\n",
       "      <td>avg</td>\n",
       "      <td>no</td>\n",
       "      <td>0</td>\n",
       "      <td>F</td>\n",
       "      <td>1</td>\n",
       "    </tr>\n",
       "    <tr>\n",
       "      <th>236</th>\n",
       "      <td>1</td>\n",
       "      <td>32400</td>\n",
       "      <td>59</td>\n",
       "      <td>80</td>\n",
       "      <td>201831.0</td>\n",
       "      <td>188</td>\n",
       "      <td>1</td>\n",
       "      <td>sat</td>\n",
       "      <td>no</td>\n",
       "      <td>0</td>\n",
       "      <td>F</td>\n",
       "      <td>1</td>\n",
       "    </tr>\n",
       "    <tr>\n",
       "      <th>246</th>\n",
       "      <td>1</td>\n",
       "      <td>71677</td>\n",
       "      <td>0</td>\n",
       "      <td>0</td>\n",
       "      <td>607087.0</td>\n",
       "      <td>356</td>\n",
       "      <td>10</td>\n",
       "      <td>very_sat</td>\n",
       "      <td>no</td>\n",
       "      <td>1</td>\n",
       "      <td>D</td>\n",
       "      <td>1</td>\n",
       "    </tr>\n",
       "    <tr>\n",
       "      <th>262</th>\n",
       "      <td>1</td>\n",
       "      <td>141550</td>\n",
       "      <td>0</td>\n",
       "      <td>59</td>\n",
       "      <td>608547.0</td>\n",
       "      <td>521</td>\n",
       "      <td>8</td>\n",
       "      <td>very_sat</td>\n",
       "      <td>no</td>\n",
       "      <td>1</td>\n",
       "      <td>A</td>\n",
       "      <td>1</td>\n",
       "    </tr>\n",
       "  </tbody>\n",
       "</table>\n",
       "</div>"
      ],
      "text/plain": [
       "     COLLEGE  INCOME  OVERAGE  LEFTOVER     HOUSE  HANDSET_PRICE  \\\n",
       "7          1   63338       50        57  394791.0            362   \n",
       "12         1   31749       51         0  388298.0            220   \n",
       "21         1  151060       23        55  356870.0            517   \n",
       "24         0  144913        0        15  310943.0            768   \n",
       "38         0  129806        0        15  345692.0            498   \n",
       "59         0   78777       32        87  667417.0            265   \n",
       "66         1   49046       74        37  619694.0            221   \n",
       "71         0  136220       90        58  171255.0            471   \n",
       "88         1   64777        0         8  720317.0            289   \n",
       "97         0  136803      174        23  437576.0            143   \n",
       "101        1   37828       57         0  222546.0            219   \n",
       "102        0   50343        0        13  902022.0            338   \n",
       "115        0   60641       33         0  987364.0            397   \n",
       "122        1  135177       38         0  214228.0            703   \n",
       "131        0   55749      193        66  258181.0            308   \n",
       "145        1  106353       54        43  478045.0            568   \n",
       "152        0   70496      191        11  160107.0            262   \n",
       "158        0   74897        0        11  244333.0            248   \n",
       "161        1   69957      240        16  956392.0            345   \n",
       "174        0  132305      180         0  801996.0            742   \n",
       "177        0  107481       63        31  162506.0            451   \n",
       "186        0  144306      213        58  176213.0            899   \n",
       "187        1   65410        0        32  259440.0            361   \n",
       "191        0  129579      229        15  693674.0            447   \n",
       "192        0  110522        0         9  166351.0            392   \n",
       "195        1   22854        0        16  717330.0            232   \n",
       "205        0   35845      218         0  213438.0            250   \n",
       "236        1   32400       59        80  201831.0            188   \n",
       "246        1   71677        0         0  607087.0            356   \n",
       "262        1  141550        0        59  608547.0            521   \n",
       "\n",
       "     AVERAGE_CALL_DURATION REPORTED_SATISFACTION CONSIDERING_CHANGE_OF_PLAN  \\\n",
       "7                        1                   sat                         no   \n",
       "12                       2              very_sat                         no   \n",
       "21                       1                   avg                         no   \n",
       "24                       6                   avg                         no   \n",
       "38                       6              very_sat              never_thought   \n",
       "59                       2                   sat                         no   \n",
       "66                       2                   avg                         no   \n",
       "71                       1                   sat                         no   \n",
       "88                       6              very_sat              never_thought   \n",
       "97                       5                   avg                         no   \n",
       "101                      5                   avg                         no   \n",
       "102                      6                   sat                         no   \n",
       "115                     12              very_sat              never_thought   \n",
       "122                     15              very_sat              never_thought   \n",
       "131                      2              very_sat                         no   \n",
       "145                      2              very_sat                         no   \n",
       "152                      5                   avg                         no   \n",
       "158                      4              very_sat                         no   \n",
       "161                      5              very_sat              never_thought   \n",
       "174                     11                   avg                         no   \n",
       "177                      1                   sat                         no   \n",
       "186                      2                   avg                         no   \n",
       "187                      2              very_sat                         no   \n",
       "191                      5                   avg                         no   \n",
       "192                      4              very_sat                         no   \n",
       "195                      6                   sat                         no   \n",
       "205                     15                   avg                         no   \n",
       "236                      1                   sat                         no   \n",
       "246                     10              very_sat                         no   \n",
       "262                      8              very_sat                         no   \n",
       "\n",
       "     CHURN RICH PLAN  \n",
       "7        0    D    1  \n",
       "12       1    F    1  \n",
       "21       1    A    1  \n",
       "24       0    A    1  \n",
       "38       0    B    1  \n",
       "59       0    D    1  \n",
       "66       0    E    1  \n",
       "71       1    A    1  \n",
       "88       0    D    1  \n",
       "97       1    A    1  \n",
       "101      1    F    1  \n",
       "102      0    E    1  \n",
       "115      0    D    1  \n",
       "122      1    A    1  \n",
       "131      1    E    1  \n",
       "145      1    B    1  \n",
       "152      1    D    1  \n",
       "158      0    D    1  \n",
       "161      0    D    1  \n",
       "174      1    A    1  \n",
       "177      1    B    1  \n",
       "186      1    A    1  \n",
       "187      1    D    1  \n",
       "191      1    B    1  \n",
       "192      0    B    1  \n",
       "195      0    F    1  \n",
       "205      0    F    1  \n",
       "236      0    F    1  \n",
       "246      1    D    1  \n",
       "262      1    A    1  "
      ]
     },
     "execution_count": 37,
     "metadata": {},
     "output_type": "execute_result"
    }
   ],
   "source": [
    "mobile.loc[(mobile['PLAN'] == '1')].head(30)"
   ]
  },
  {
   "cell_type": "code",
   "execution_count": null,
   "metadata": {
    "id": "N8r5_bWEZOIO"
   },
   "outputs": [],
   "source": []
  },
  {
   "cell_type": "markdown",
   "metadata": {
    "id": "lUsQ0iBHMqte"
   },
   "source": [
    "### (2) 숫자형 Feature --> CHURN"
   ]
  },
  {
   "cell_type": "markdown",
   "metadata": {
    "id": "F_Mugk3f_y3X"
   },
   "source": [
    "#### 1) OVERAGE --> CHURN\n"
   ]
  },
  {
   "cell_type": "markdown",
   "metadata": {},
   "source": [
    "① 그래프 : histogram, densityplot"
   ]
  },
  {
   "cell_type": "code",
   "execution_count": 25,
   "metadata": {
    "id": "8ROLKtUueHSn"
   },
   "outputs": [
    {
     "data": {
      "image/png": "[encoded data removed]",
      "text/plain": [
       "<Figure size 432x288 with 1 Axes>"
      ]
     },
     "metadata": {
      "needs_background": "light"
     },
     "output_type": "display_data"
    }
   ],
   "source": [
    "sns.histplot(x='OVERAGE', data = mobile, hue = 'CHURN')\n",
    "\n",
    "plt.show()"
   ]
  },
  {
   "cell_type": "code",
   "execution_count": 25,
   "metadata": {},
   "outputs": [
    {
     "data": {
      "image/png": "[encoded data removed]",
      "text/plain": [
       "<Figure size 432x288 with 1 Axes>"
      ]
     },
     "metadata": {
      "needs_background": "light"
     },
     "output_type": "display_data"
    }
   ],
   "source": [
    "sns.kdeplot(x='OVERAGE', data = mobile, hue ='CHURN'\n",
    "            , multiple = 'fill')\n",
    "plt.axhline(mobile['CHURN'].mean(), color = 'r')\n",
    "plt.show()"
   ]
  },
  {
   "cell_type": "code",
   "execution_count": 26,
   "metadata": {
    "id": "pRhxayOcFdXb"
   },
   "outputs": [
    {
     "data": {
      "image/png": "[encoded data removed]",
      "text/plain": [
       "<Figure size 432x288 with 1 Axes>"
      ]
     },
     "metadata": {
      "needs_background": "light"
     },
     "output_type": "display_data"
    }
   ],
   "source": [
    "sns.kdeplot(x='OVERAGE', data = mobile, hue ='CHURN')\n",
    "plt.show()"
   ]
  },
  {
   "cell_type": "code",
   "execution_count": 27,
   "metadata": {
    "id": "V716mlpmFdUE"
   },
   "outputs": [
    {
     "data": {
      "image/png": "[encoded data removed]",
      "text/plain": [
       "<Figure size 432x288 with 1 Axes>"
      ]
     },
     "metadata": {
      "needs_background": "light"
     },
     "output_type": "display_data"
    }
   ],
   "source": [
    "sns.kdeplot(x='OVERAGE', data = mobile, hue ='CHURN', common_norm = False)\n",
    "plt.show()"
   ]
  },
  {
   "cell_type": "markdown",
   "metadata": {
    "id": "RGQGnk8JFdQf"
   },
   "source": [
    "시각화를 통해 파악한 내용을 적어 봅시다."
   ]
  },
  {
   "cell_type": "markdown",
   "metadata": {
    "id": "8z58caznFdNU"
   },
   "source": [
    "> \n",
    "* hist로 보면, 초과사용은 초반에 밀집 되어있다.\n",
    "    * 초반에 밀집되어 있는것으로 보아 모르고 사용하다가 초과 된 것으로 보인다.\n",
    "    * 초과 사용하면 알림이 가므로 조금이라도 초과 한 것이 나타난 것이다.\n",
    "* 초과한 시간이 많을 수록 이탈도 증가하게 된다.\n",
    "* 왜 초과를 많이 통신사를 이탈을 할까?\n",
    "    * 요금제가 비싼 통신사 인가?\n",
    "    * 결합 할인이 있는 건가?\n",
    "* 0-20, 30-100, 100-250 이렇게 나누어서 통계해도 좋을 것 같다.\n",
    "* dens 그래프를 보면 차이가 조금 있는 것으로 보인다."
   ]
  },
  {
   "cell_type": "markdown",
   "metadata": {},
   "source": [
    "② 수치화 : 로지스틱회귀"
   ]
  },
  {
   "cell_type": "code",
   "execution_count": 29,
   "metadata": {},
   "outputs": [
    {
     "name": "stdout",
     "output_type": "stream",
     "text": [
      "Optimization terminated successfully.\n",
      "         Current function value: 0.680553\n",
      "         Iterations 4\n",
      "OVERAGE    3.521095e-97\n",
      "dtype: float64\n"
     ]
    }
   ],
   "source": [
    "model = sm.Logit(mobile['CHURN'], mobile['OVERAGE'])\n",
    "result = model.fit()\n",
    "print(result.pvalues)"
   ]
  },
  {
   "cell_type": "markdown",
   "metadata": {},
   "source": [
    "③ 시각화와 수치화를 통해 파악한 내용을 적어 봅시다."
   ]
  },
  {
   "cell_type": "markdown",
   "metadata": {},
   "source": [
    "> \n",
    "* p-value 값이 0에 가까운수로 관련이 있다. \n",
    "* 시각화에서도 차이가 있는 것 처럼 수치화에서도 관련이 있다.\n",
    "* 근데 부분 부분 분포가 있는 것으로 보아 새롭게 추가적인 분석을 해야할 필요가 있다."
   ]
  },
  {
   "cell_type": "markdown",
   "metadata": {},
   "source": [
    "* 구간별로 나누어서 분석이 필요한 것으로 보인다."
   ]
  },
  {
   "cell_type": "markdown",
   "metadata": {
    "id": "QwikcGXELsny"
   },
   "source": [
    "#### 2) HANDSET_PRICE --> CHURN\n"
   ]
  },
  {
   "cell_type": "markdown",
   "metadata": {
    "id": "bGWLTAg9Lsny"
   },
   "source": [
    "① 그래프 : histogram, densityplot"
   ]
  },
  {
   "cell_type": "code",
   "execution_count": 20,
   "metadata": {
    "id": "R4crpBV9FfAM"
   },
   "outputs": [
    {
     "data": {
      "image/png": "[encoded data removed]",
      "text/plain": [
       "<Figure size 432x288 with 1 Axes>"
      ]
     },
     "metadata": {
      "needs_background": "light"
     },
     "output_type": "display_data"
    }
   ],
   "source": [
    "sns.histplot(x='HANDSET_PRICE', data = mobile, hue = 'CHURN')\n",
    "\n",
    "plt.show()"
   ]
  },
  {
   "cell_type": "code",
   "execution_count": 21,
   "metadata": {},
   "outputs": [
    {
     "data": {
      "image/png": "[encoded data removed]",
      "text/plain": [
       "<Figure size 432x288 with 1 Axes>"
      ]
     },
     "metadata": {
      "needs_background": "light"
     },
     "output_type": "display_data"
    }
   ],
   "source": [
    "sns.kdeplot(x='HANDSET_PRICE', data = mobile, hue ='CHURN'\n",
    "            , multiple = 'fill')\n",
    "plt.axhline(mobile['CHURN'].mean(), color = 'r')\n",
    "plt.show()"
   ]
  },
  {
   "cell_type": "code",
   "execution_count": 22,
   "metadata": {
    "id": "Wk4QkkXyFe8_"
   },
   "outputs": [
    {
     "data": {
      "image/png": "[encoded data removed]",
      "text/plain": [
       "<Figure size 432x288 with 1 Axes>"
      ]
     },
     "metadata": {
      "needs_background": "light"
     },
     "output_type": "display_data"
    }
   ],
   "source": [
    "sns.kdeplot(x='HANDSET_PRICE', data = mobile, hue ='CHURN', )\n",
    "plt.show()"
   ]
  },
  {
   "cell_type": "code",
   "execution_count": 23,
   "metadata": {
    "id": "V-ohsvLDFe5f"
   },
   "outputs": [
    {
     "data": {
      "image/png": "[encoded data removed]",
      "text/plain": [
       "<Figure size 432x288 with 1 Axes>"
      ]
     },
     "metadata": {
      "needs_background": "light"
     },
     "output_type": "display_data"
    }
   ],
   "source": [
    "sns.kdeplot(x='HANDSET_PRICE', data = mobile, hue ='CHURN', common_norm = False)\n",
    "plt.show()"
   ]
  },
  {
   "cell_type": "markdown",
   "metadata": {
    "id": "Ol5A6fIwFe2L"
   },
   "source": [
    "시각화를 통해 파악한 내용을 적어 봅시다."
   ]
  },
  {
   "cell_type": "markdown",
   "metadata": {},
   "source": [
    ">\n",
    "* 핸드폰 가격이 100-400 까지는 잔류가 높다.\n",
    "    * 핸드폰을 바꿀 때, 통신사에서 지원금을 주나?\n",
    "    * 왜 100-400에서 잔류가 왜 높을까?\n",
    "* 연 수입액이 적은만큼 값이 싼 핸드폰을 사용할까?\n",
    "* 반대로, 400이상은 이탈율보다 잔여가 낮다.\n",
    "    \n"
   ]
  },
  {
   "cell_type": "markdown",
   "metadata": {},
   "source": [
    "② 수치화 : 로지스틱회귀"
   ]
  },
  {
   "cell_type": "code",
   "execution_count": 33,
   "metadata": {},
   "outputs": [
    {
     "name": "stdout",
     "output_type": "stream",
     "text": [
      "Optimization terminated successfully.\n",
      "         Current function value: 0.692730\n",
      "         Iterations 3\n",
      "HANDSET_PRICE    0.000107\n",
      "dtype: float64\n"
     ]
    }
   ],
   "source": [
    "model = sm.Logit(mobile['CHURN'], mobile['HANDSET_PRICE'])\n",
    "result = model.fit()\n",
    "print(result.pvalues)"
   ]
  },
  {
   "cell_type": "markdown",
   "metadata": {},
   "source": [
    "③ 시각화와 수치화를 통해 파악한 내용을 적어 봅시다."
   ]
  },
  {
   "cell_type": "markdown",
   "metadata": {},
   "source": [
    ">\n",
    "* p-value 값이 0.0001 < 0.05 이므로, 0에 수렴하여 많은 차이가 있다.\n",
    "* 시각화에서 차이가 있는 것 처럼 역시나 수치화에서도 차이가 있다.\n",
    "* 연 수입액과 핸드폰 가격은 동일 한 그래프가 나올 것인가?\n",
    "* dens 그래프를 보면, 거의 차이가 없어보이는 것으로 보인다.\n",
    "  (조금만 더 올라가면 귀무가설이 참으로 보일 수 가 있다.)\n"
   ]
  },
  {
   "cell_type": "code",
   "execution_count": null,
   "metadata": {},
   "outputs": [],
   "source": []
  },
  {
   "cell_type": "code",
   "execution_count": null,
   "metadata": {},
   "outputs": [],
   "source": []
  },
  {
   "cell_type": "code",
   "execution_count": null,
   "metadata": {},
   "outputs": [],
   "source": []
  },
  {
   "cell_type": "code",
   "execution_count": null,
   "metadata": {},
   "outputs": [],
   "source": []
  },
  {
   "cell_type": "code",
   "execution_count": null,
   "metadata": {},
   "outputs": [],
   "source": []
  },
  {
   "cell_type": "markdown",
   "metadata": {
    "id": "KkyjTXOqLsyK"
   },
   "source": [
    "#### 3) INCOME --> CHURN\n"
   ]
  },
  {
   "cell_type": "markdown",
   "metadata": {
    "id": "ZNHDXzGALsyK"
   },
   "source": [
    "① 그래프 : histogram, densityplot"
   ]
  },
  {
   "cell_type": "code",
   "execution_count": 40,
   "metadata": {
    "id": "zdX0gPMOFggG"
   },
   "outputs": [
    {
     "data": {
      "image/png": "[encoded data removed]",
      "text/plain": [
       "<Figure size 432x288 with 1 Axes>"
      ]
     },
     "metadata": {
      "needs_background": "light"
     },
     "output_type": "display_data"
    }
   ],
   "source": [
    "sns.histplot(x='INCOME', data = mobile, hue = 'CHURN')\n",
    "\n",
    "plt.show()"
   ]
  },
  {
   "cell_type": "code",
   "execution_count": 24,
   "metadata": {},
   "outputs": [
    {
     "data": {
      "image/png": "[encoded data removed]",
      "text/plain": [
       "<Figure size 432x288 with 1 Axes>"
      ]
     },
     "metadata": {
      "needs_background": "light"
     },
     "output_type": "display_data"
    }
   ],
   "source": [
    "sns.kdeplot(x='INCOME', data = mobile, hue ='CHURN'\n",
    "            , multiple = 'fill')\n",
    "plt.axhline(mobile['CHURN'].mean(), color = 'r')\n",
    "plt.show()"
   ]
  },
  {
   "cell_type": "code",
   "execution_count": 41,
   "metadata": {},
   "outputs": [
    {
     "data": {
      "image/png": "[encoded data removed]",
      "text/plain": [
       "<Figure size 432x288 with 1 Axes>"
      ]
     },
     "metadata": {
      "needs_background": "light"
     },
     "output_type": "display_data"
    }
   ],
   "source": [
    "sns.kdeplot(x='INCOME', data = mobile, hue ='CHURN')\n",
    "plt.show()"
   ]
  },
  {
   "cell_type": "code",
   "execution_count": 42,
   "metadata": {},
   "outputs": [
    {
     "data": {
      "image/png": "[encoded data removed]",
      "text/plain": [
       "<Figure size 432x288 with 1 Axes>"
      ]
     },
     "metadata": {
      "needs_background": "light"
     },
     "output_type": "display_data"
    }
   ],
   "source": [
    "sns.kdeplot(x='INCOME', data = mobile, hue ='CHURN', common_norm = False)\n",
    "plt.show()"
   ]
  },
  {
   "cell_type": "markdown",
   "metadata": {},
   "source": [
    "시각화를 통해 파악한 내용을 적어 봅시다."
   ]
  },
  {
   "cell_type": "markdown",
   "metadata": {
    "id": "Fb_Y9eIsFgc-"
   },
   "source": [
    ">\n",
    "* 연 수입액이 평균에서 적은 쪽은 이탈률이 적고, 많은 쪽은 이탈률이 많다.\n",
    "    * 왜 수입액이 많으면 이탈이 많아질까?\n",
    "* dens 그래프에서도 비슷 하게 나와 차이가 있을 것으로 보인다.\n"
   ]
  },
  {
   "cell_type": "markdown",
   "metadata": {
    "id": "FFVmR4hXFgaM"
   },
   "source": [
    "② 수치화 : 로지스틱회귀"
   ]
  },
  {
   "cell_type": "code",
   "execution_count": 37,
   "metadata": {
    "id": "iosQzJv4FgXG"
   },
   "outputs": [
    {
     "name": "stdout",
     "output_type": "stream",
     "text": [
      "Optimization terminated successfully.\n",
      "         Current function value: 0.692683\n",
      "         Iterations 2\n",
      "INCOME    0.000044\n",
      "dtype: float64\n"
     ]
    }
   ],
   "source": [
    "model = sm.Logit(mobile['CHURN'], mobile['INCOME'])\n",
    "result = model.fit()\n",
    "print(result.pvalues)"
   ]
  },
  {
   "cell_type": "markdown",
   "metadata": {},
   "source": [
    "③ 시각화와 수치화를 통해 파악한 내용을 적어 봅시다."
   ]
  },
  {
   "cell_type": "markdown",
   "metadata": {},
   "source": [
    ">\n",
    "* p-value의 값이 0에 수렴하므로, 큰 관련이 있다.\n",
    "* 시각화 수치호 모두 같은 결과이다.\n",
    "* 연 수입액이 많으면 비싼 핸드폰을 쓸지 궁금하다.\n",
    "* 연 수입액이 많으면 만족도도 높을 것인가?"
   ]
  },
  {
   "cell_type": "markdown",
   "metadata": {},
   "source": [
    "⑤ 추가분석\n",
    "* 핸드폰가격과 연 수입액의 조합으로 이탈여부 분석\n",
    "    "
   ]
  },
  {
   "cell_type": "code",
   "execution_count": 18,
   "metadata": {},
   "outputs": [
    {
     "data": {
      "text/html": [
       "<div>\n",
       "<style scoped>\n",
       "    .dataframe tbody tr th:only-of-type {\n",
       "        vertical-align: middle;\n",
       "    }\n",
       "\n",
       "    .dataframe tbody tr th {\n",
       "        vertical-align: top;\n",
       "    }\n",
       "\n",
       "    .dataframe thead th {\n",
       "        text-align: right;\n",
       "    }\n",
       "</style>\n",
       "<table border=\"1\" class=\"dataframe\">\n",
       "  <thead>\n",
       "    <tr style=\"text-align: right;\">\n",
       "      <th></th>\n",
       "      <th>HANDSET_PRICE</th>\n",
       "      <th>INCOME</th>\n",
       "      <th>CHURN</th>\n",
       "    </tr>\n",
       "  </thead>\n",
       "  <tbody>\n",
       "    <tr>\n",
       "      <th>0</th>\n",
       "      <td>130</td>\n",
       "      <td>20684</td>\n",
       "      <td>1.0</td>\n",
       "    </tr>\n",
       "    <tr>\n",
       "      <th>1</th>\n",
       "      <td>130</td>\n",
       "      <td>20755</td>\n",
       "      <td>1.0</td>\n",
       "    </tr>\n",
       "    <tr>\n",
       "      <th>2</th>\n",
       "      <td>130</td>\n",
       "      <td>21029</td>\n",
       "      <td>0.0</td>\n",
       "    </tr>\n",
       "    <tr>\n",
       "      <th>3</th>\n",
       "      <td>130</td>\n",
       "      <td>21285</td>\n",
       "      <td>0.0</td>\n",
       "    </tr>\n",
       "    <tr>\n",
       "      <th>4</th>\n",
       "      <td>130</td>\n",
       "      <td>21666</td>\n",
       "      <td>0.0</td>\n",
       "    </tr>\n",
       "    <tr>\n",
       "      <th>...</th>\n",
       "      <td>...</td>\n",
       "      <td>...</td>\n",
       "      <td>...</td>\n",
       "    </tr>\n",
       "    <tr>\n",
       "      <th>17991</th>\n",
       "      <td>899</td>\n",
       "      <td>144306</td>\n",
       "      <td>1.0</td>\n",
       "    </tr>\n",
       "    <tr>\n",
       "      <th>17992</th>\n",
       "      <td>899</td>\n",
       "      <td>150712</td>\n",
       "      <td>1.0</td>\n",
       "    </tr>\n",
       "    <tr>\n",
       "      <th>17993</th>\n",
       "      <td>899</td>\n",
       "      <td>152249</td>\n",
       "      <td>1.0</td>\n",
       "    </tr>\n",
       "    <tr>\n",
       "      <th>17994</th>\n",
       "      <td>899</td>\n",
       "      <td>153303</td>\n",
       "      <td>0.0</td>\n",
       "    </tr>\n",
       "    <tr>\n",
       "      <th>17995</th>\n",
       "      <td>899</td>\n",
       "      <td>159944</td>\n",
       "      <td>1.0</td>\n",
       "    </tr>\n",
       "  </tbody>\n",
       "</table>\n",
       "<p>17996 rows × 3 columns</p>\n",
       "</div>"
      ],
      "text/plain": [
       "       HANDSET_PRICE  INCOME  CHURN\n",
       "0                130   20684    1.0\n",
       "1                130   20755    1.0\n",
       "2                130   21029    0.0\n",
       "3                130   21285    0.0\n",
       "4                130   21666    0.0\n",
       "...              ...     ...    ...\n",
       "17991            899  144306    1.0\n",
       "17992            899  150712    1.0\n",
       "17993            899  152249    1.0\n",
       "17994            899  153303    0.0\n",
       "17995            899  159944    1.0\n",
       "\n",
       "[17996 rows x 3 columns]"
      ]
     },
     "execution_count": 18,
     "metadata": {},
     "output_type": "execute_result"
    }
   ],
   "source": [
    "mobile.groupby(['HANDSET_PRICE','INCOME'],as_index=False)['CHURN'].mean()"
   ]
  },
  {
   "cell_type": "code",
   "execution_count": 20,
   "metadata": {},
   "outputs": [],
   "source": [
    "# mobile['RICH'] = 'G' \n",
    "# mobile.loc[(mobile['HANDSET_PRICE'] >= 100 )& (mobile['INCOME']> 10000) &(mobile['INCOME']<= 40000), 'RICH'] = 'F' \n",
    "# mobile.loc[(mobile['HANDSET_PRICE'] <= 400 )& (mobile['INCOME']> 40000) &(mobile['INCOME']<= 60000), 'RICH'] = 'E' \n",
    "# mobile.loc[(mobile['HANDSET_PRICE'] <= 600 )& (mobile['INCOME']> 60000) &(mobile['INCOME']<= 90000), 'RICH'] = 'D' \n",
    "# mobile.loc[(mobile['HANDSET_PRICE'] <= 700 )& (mobile['INCOME']> 90000) &(mobile['INCOME']<= 100000), 'RICH'] = 'C' \n",
    "# mobile.loc[(mobile['HANDSET_PRICE'] <= 800 )& (mobile['INCOME']> 100000) &(mobile['INCOME']<= 130000), 'RICH'] = 'B' \n",
    "# mobile.loc[(mobile['HANDSET_PRICE'] <= 900 )& (mobile['INCOME']> 130000) &(mobile['INCOME']<= 160000) , 'RICH'] = 'A' \n",
    "\n",
    "\n",
    "# mobile.sort_values(by='INCOME', ascending=False).head(15)\n",
    "# mobile.head(15)"
   ]
  },
  {
   "cell_type": "code",
   "execution_count": 21,
   "metadata": {},
   "outputs": [
    {
     "data": {
      "text/html": [
       "<div>\n",
       "<style scoped>\n",
       "    .dataframe tbody tr th:only-of-type {\n",
       "        vertical-align: middle;\n",
       "    }\n",
       "\n",
       "    .dataframe tbody tr th {\n",
       "        vertical-align: top;\n",
       "    }\n",
       "\n",
       "    .dataframe thead th {\n",
       "        text-align: right;\n",
       "    }\n",
       "</style>\n",
       "<table border=\"1\" class=\"dataframe\">\n",
       "  <thead>\n",
       "    <tr style=\"text-align: right;\">\n",
       "      <th></th>\n",
       "      <th>COLLEGE</th>\n",
       "      <th>INCOME</th>\n",
       "      <th>OVERAGE</th>\n",
       "      <th>LEFTOVER</th>\n",
       "      <th>HOUSE</th>\n",
       "      <th>HANDSET_PRICE</th>\n",
       "      <th>AVERAGE_CALL_DURATION</th>\n",
       "      <th>REPORTED_SATISFACTION</th>\n",
       "      <th>CONSIDERING_CHANGE_OF_PLAN</th>\n",
       "      <th>CHURN</th>\n",
       "      <th>RICH</th>\n",
       "    </tr>\n",
       "  </thead>\n",
       "  <tbody>\n",
       "    <tr>\n",
       "      <th>9000</th>\n",
       "      <td>1</td>\n",
       "      <td>86280</td>\n",
       "      <td>178</td>\n",
       "      <td>16</td>\n",
       "      <td>155342.0</td>\n",
       "      <td>309</td>\n",
       "      <td>6</td>\n",
       "      <td>unsat</td>\n",
       "      <td>no</td>\n",
       "      <td>1</td>\n",
       "      <td>D</td>\n",
       "    </tr>\n",
       "    <tr>\n",
       "      <th>9969</th>\n",
       "      <td>1</td>\n",
       "      <td>35998</td>\n",
       "      <td>0</td>\n",
       "      <td>40</td>\n",
       "      <td>355556.0</td>\n",
       "      <td>264</td>\n",
       "      <td>1</td>\n",
       "      <td>very_sat</td>\n",
       "      <td>no</td>\n",
       "      <td>1</td>\n",
       "      <td>F</td>\n",
       "    </tr>\n",
       "    <tr>\n",
       "      <th>9953</th>\n",
       "      <td>0</td>\n",
       "      <td>108996</td>\n",
       "      <td>0</td>\n",
       "      <td>0</td>\n",
       "      <td>238746.0</td>\n",
       "      <td>462</td>\n",
       "      <td>9</td>\n",
       "      <td>very_sat</td>\n",
       "      <td>never_thought</td>\n",
       "      <td>1</td>\n",
       "      <td>B</td>\n",
       "    </tr>\n",
       "    <tr>\n",
       "      <th>9957</th>\n",
       "      <td>1</td>\n",
       "      <td>153073</td>\n",
       "      <td>221</td>\n",
       "      <td>9</td>\n",
       "      <td>436838.0</td>\n",
       "      <td>477</td>\n",
       "      <td>6</td>\n",
       "      <td>very_sat</td>\n",
       "      <td>no</td>\n",
       "      <td>1</td>\n",
       "      <td>A</td>\n",
       "    </tr>\n",
       "    <tr>\n",
       "      <th>9958</th>\n",
       "      <td>0</td>\n",
       "      <td>71014</td>\n",
       "      <td>49</td>\n",
       "      <td>24</td>\n",
       "      <td>181700.0</td>\n",
       "      <td>305</td>\n",
       "      <td>13</td>\n",
       "      <td>avg</td>\n",
       "      <td>actively_looking_into_it</td>\n",
       "      <td>1</td>\n",
       "      <td>D</td>\n",
       "    </tr>\n",
       "    <tr>\n",
       "      <th>9959</th>\n",
       "      <td>0</td>\n",
       "      <td>40965</td>\n",
       "      <td>64</td>\n",
       "      <td>17</td>\n",
       "      <td>205210.0</td>\n",
       "      <td>206</td>\n",
       "      <td>6</td>\n",
       "      <td>very_unsat</td>\n",
       "      <td>actively_looking_into_it</td>\n",
       "      <td>1</td>\n",
       "      <td>E</td>\n",
       "    </tr>\n",
       "    <tr>\n",
       "      <th>9961</th>\n",
       "      <td>1</td>\n",
       "      <td>44302</td>\n",
       "      <td>98</td>\n",
       "      <td>37</td>\n",
       "      <td>216422.0</td>\n",
       "      <td>136</td>\n",
       "      <td>2</td>\n",
       "      <td>unsat</td>\n",
       "      <td>perhaps</td>\n",
       "      <td>1</td>\n",
       "      <td>E</td>\n",
       "    </tr>\n",
       "    <tr>\n",
       "      <th>9963</th>\n",
       "      <td>1</td>\n",
       "      <td>44677</td>\n",
       "      <td>0</td>\n",
       "      <td>0</td>\n",
       "      <td>974077.0</td>\n",
       "      <td>244</td>\n",
       "      <td>9</td>\n",
       "      <td>very_unsat</td>\n",
       "      <td>considering</td>\n",
       "      <td>1</td>\n",
       "      <td>E</td>\n",
       "    </tr>\n",
       "    <tr>\n",
       "      <th>9965</th>\n",
       "      <td>1</td>\n",
       "      <td>94561</td>\n",
       "      <td>214</td>\n",
       "      <td>69</td>\n",
       "      <td>295788.0</td>\n",
       "      <td>335</td>\n",
       "      <td>1</td>\n",
       "      <td>very_unsat</td>\n",
       "      <td>considering</td>\n",
       "      <td>1</td>\n",
       "      <td>C</td>\n",
       "    </tr>\n",
       "    <tr>\n",
       "      <th>9966</th>\n",
       "      <td>0</td>\n",
       "      <td>130338</td>\n",
       "      <td>66</td>\n",
       "      <td>8</td>\n",
       "      <td>245080.0</td>\n",
       "      <td>556</td>\n",
       "      <td>4</td>\n",
       "      <td>very_sat</td>\n",
       "      <td>no</td>\n",
       "      <td>1</td>\n",
       "      <td>A</td>\n",
       "    </tr>\n",
       "    <tr>\n",
       "      <th>9968</th>\n",
       "      <td>1</td>\n",
       "      <td>114653</td>\n",
       "      <td>56</td>\n",
       "      <td>64</td>\n",
       "      <td>289593.0</td>\n",
       "      <td>764</td>\n",
       "      <td>1</td>\n",
       "      <td>very_unsat</td>\n",
       "      <td>considering</td>\n",
       "      <td>1</td>\n",
       "      <td>B</td>\n",
       "    </tr>\n",
       "    <tr>\n",
       "      <th>9970</th>\n",
       "      <td>0</td>\n",
       "      <td>62988</td>\n",
       "      <td>184</td>\n",
       "      <td>17</td>\n",
       "      <td>472491.0</td>\n",
       "      <td>375</td>\n",
       "      <td>6</td>\n",
       "      <td>unsat</td>\n",
       "      <td>no</td>\n",
       "      <td>1</td>\n",
       "      <td>D</td>\n",
       "    </tr>\n",
       "    <tr>\n",
       "      <th>9905</th>\n",
       "      <td>0</td>\n",
       "      <td>152050</td>\n",
       "      <td>88</td>\n",
       "      <td>0</td>\n",
       "      <td>221752.0</td>\n",
       "      <td>464</td>\n",
       "      <td>12</td>\n",
       "      <td>very_unsat</td>\n",
       "      <td>no</td>\n",
       "      <td>1</td>\n",
       "      <td>A</td>\n",
       "    </tr>\n",
       "    <tr>\n",
       "      <th>9971</th>\n",
       "      <td>0</td>\n",
       "      <td>31680</td>\n",
       "      <td>180</td>\n",
       "      <td>0</td>\n",
       "      <td>202365.0</td>\n",
       "      <td>141</td>\n",
       "      <td>15</td>\n",
       "      <td>very_sat</td>\n",
       "      <td>considering</td>\n",
       "      <td>1</td>\n",
       "      <td>F</td>\n",
       "    </tr>\n",
       "    <tr>\n",
       "      <th>9972</th>\n",
       "      <td>1</td>\n",
       "      <td>136119</td>\n",
       "      <td>0</td>\n",
       "      <td>0</td>\n",
       "      <td>801344.0</td>\n",
       "      <td>727</td>\n",
       "      <td>6</td>\n",
       "      <td>unsat</td>\n",
       "      <td>no</td>\n",
       "      <td>1</td>\n",
       "      <td>A</td>\n",
       "    </tr>\n",
       "  </tbody>\n",
       "</table>\n",
       "</div>"
      ],
      "text/plain": [
       "      COLLEGE  INCOME  OVERAGE  LEFTOVER     HOUSE  HANDSET_PRICE  \\\n",
       "9000        1   86280      178        16  155342.0            309   \n",
       "9969        1   35998        0        40  355556.0            264   \n",
       "9953        0  108996        0         0  238746.0            462   \n",
       "9957        1  153073      221         9  436838.0            477   \n",
       "9958        0   71014       49        24  181700.0            305   \n",
       "9959        0   40965       64        17  205210.0            206   \n",
       "9961        1   44302       98        37  216422.0            136   \n",
       "9963        1   44677        0         0  974077.0            244   \n",
       "9965        1   94561      214        69  295788.0            335   \n",
       "9966        0  130338       66         8  245080.0            556   \n",
       "9968        1  114653       56        64  289593.0            764   \n",
       "9970        0   62988      184        17  472491.0            375   \n",
       "9905        0  152050       88         0  221752.0            464   \n",
       "9971        0   31680      180         0  202365.0            141   \n",
       "9972        1  136119        0         0  801344.0            727   \n",
       "\n",
       "      AVERAGE_CALL_DURATION REPORTED_SATISFACTION CONSIDERING_CHANGE_OF_PLAN  \\\n",
       "9000                      6                 unsat                         no   \n",
       "9969                      1              very_sat                         no   \n",
       "9953                      9              very_sat              never_thought   \n",
       "9957                      6              very_sat                         no   \n",
       "9958                     13                   avg   actively_looking_into_it   \n",
       "9959                      6            very_unsat   actively_looking_into_it   \n",
       "9961                      2                 unsat                    perhaps   \n",
       "9963                      9            very_unsat                considering   \n",
       "9965                      1            very_unsat                considering   \n",
       "9966                      4              very_sat                         no   \n",
       "9968                      1            very_unsat                considering   \n",
       "9970                      6                 unsat                         no   \n",
       "9905                     12            very_unsat                         no   \n",
       "9971                     15              very_sat                considering   \n",
       "9972                      6                 unsat                         no   \n",
       "\n",
       "      CHURN RICH  \n",
       "9000      1    D  \n",
       "9969      1    F  \n",
       "9953      1    B  \n",
       "9957      1    A  \n",
       "9958      1    D  \n",
       "9959      1    E  \n",
       "9961      1    E  \n",
       "9963      1    E  \n",
       "9965      1    C  \n",
       "9966      1    A  \n",
       "9968      1    B  \n",
       "9970      1    D  \n",
       "9905      1    A  \n",
       "9971      1    F  \n",
       "9972      1    A  "
      ]
     },
     "execution_count": 21,
     "metadata": {},
     "output_type": "execute_result"
    }
   ],
   "source": [
    "mobile['RICH'] = 'G' \n",
    "\n",
    "mobile.loc[(mobile['HANDSET_PRICE'] <= 900 )& (mobile['INCOME']> 130000) &(mobile['INCOME']<= 160000) , 'RICH'] = 'A'\n",
    "mobile.loc[(mobile['HANDSET_PRICE'] <= 800 )& (mobile['INCOME']> 100000) &(mobile['INCOME']<= 130000), 'RICH'] = 'B' \n",
    "mobile.loc[(mobile['HANDSET_PRICE'] <= 700 )& (mobile['INCOME']> 90000) &(mobile['INCOME']<= 100000), 'RICH'] = 'C'\n",
    "mobile.loc[(mobile['HANDSET_PRICE'] <= 400 )& (mobile['INCOME']> 40000) &(mobile['INCOME']<= 60000), 'RICH'] = 'E' \n",
    "mobile.loc[(mobile['HANDSET_PRICE'] <= 600 )& (mobile['INCOME']> 60000) &(mobile['INCOME']<= 90000), 'RICH'] = 'D' \n",
    "mobile.loc[(mobile['HANDSET_PRICE'] <= 400 )& (mobile['INCOME']> 40000) &(mobile['INCOME']<= 60000), 'RICH'] = 'E' \n",
    "mobile.loc[(mobile['HANDSET_PRICE'] >= 100 )& (mobile['INCOME']> 10000) &(mobile['INCOME']<= 40000), 'RICH'] = 'F' \n",
    "\n",
    "\n",
    "\n",
    "mobile.sort_values(by='CHURN', ascending=False).head(15)\n",
    "# mobile.head(15)"
   ]
  },
  {
   "cell_type": "code",
   "execution_count": 22,
   "metadata": {},
   "outputs": [
    {
     "data": {
      "text/html": [
       "<div>\n",
       "<style scoped>\n",
       "    .dataframe tbody tr th:only-of-type {\n",
       "        vertical-align: middle;\n",
       "    }\n",
       "\n",
       "    .dataframe tbody tr th {\n",
       "        vertical-align: top;\n",
       "    }\n",
       "\n",
       "    .dataframe thead th {\n",
       "        text-align: right;\n",
       "    }\n",
       "</style>\n",
       "<table border=\"1\" class=\"dataframe\">\n",
       "  <thead>\n",
       "    <tr style=\"text-align: right;\">\n",
       "      <th></th>\n",
       "      <th>COLLEGE</th>\n",
       "      <th>INCOME</th>\n",
       "      <th>OVERAGE</th>\n",
       "      <th>LEFTOVER</th>\n",
       "      <th>HOUSE</th>\n",
       "      <th>HANDSET_PRICE</th>\n",
       "      <th>AVERAGE_CALL_DURATION</th>\n",
       "      <th>REPORTED_SATISFACTION</th>\n",
       "      <th>CONSIDERING_CHANGE_OF_PLAN</th>\n",
       "      <th>CHURN</th>\n",
       "      <th>RICH</th>\n",
       "    </tr>\n",
       "  </thead>\n",
       "  <tbody>\n",
       "    <tr>\n",
       "      <th>2</th>\n",
       "      <td>1</td>\n",
       "      <td>150419</td>\n",
       "      <td>0</td>\n",
       "      <td>14</td>\n",
       "      <td>204004.0</td>\n",
       "      <td>682</td>\n",
       "      <td>6</td>\n",
       "      <td>unsat</td>\n",
       "      <td>considering</td>\n",
       "      <td>0</td>\n",
       "      <td>A</td>\n",
       "    </tr>\n",
       "    <tr>\n",
       "      <th>3</th>\n",
       "      <td>0</td>\n",
       "      <td>159567</td>\n",
       "      <td>0</td>\n",
       "      <td>58</td>\n",
       "      <td>281969.0</td>\n",
       "      <td>634</td>\n",
       "      <td>1</td>\n",
       "      <td>very_unsat</td>\n",
       "      <td>never_thought</td>\n",
       "      <td>0</td>\n",
       "      <td>A</td>\n",
       "    </tr>\n",
       "    <tr>\n",
       "      <th>8</th>\n",
       "      <td>1</td>\n",
       "      <td>133496</td>\n",
       "      <td>163</td>\n",
       "      <td>11</td>\n",
       "      <td>166179.0</td>\n",
       "      <td>864</td>\n",
       "      <td>5</td>\n",
       "      <td>NaN</td>\n",
       "      <td>actively_looking_into_it</td>\n",
       "      <td>1</td>\n",
       "      <td>A</td>\n",
       "    </tr>\n",
       "    <tr>\n",
       "      <th>9</th>\n",
       "      <td>1</td>\n",
       "      <td>155145</td>\n",
       "      <td>29</td>\n",
       "      <td>18</td>\n",
       "      <td>717451.0</td>\n",
       "      <td>671</td>\n",
       "      <td>4</td>\n",
       "      <td>unsat</td>\n",
       "      <td>considering</td>\n",
       "      <td>0</td>\n",
       "      <td>A</td>\n",
       "    </tr>\n",
       "    <tr>\n",
       "      <th>21</th>\n",
       "      <td>1</td>\n",
       "      <td>151060</td>\n",
       "      <td>23</td>\n",
       "      <td>55</td>\n",
       "      <td>356870.0</td>\n",
       "      <td>517</td>\n",
       "      <td>1</td>\n",
       "      <td>avg</td>\n",
       "      <td>no</td>\n",
       "      <td>1</td>\n",
       "      <td>A</td>\n",
       "    </tr>\n",
       "    <tr>\n",
       "      <th>24</th>\n",
       "      <td>0</td>\n",
       "      <td>144913</td>\n",
       "      <td>0</td>\n",
       "      <td>15</td>\n",
       "      <td>310943.0</td>\n",
       "      <td>768</td>\n",
       "      <td>6</td>\n",
       "      <td>avg</td>\n",
       "      <td>no</td>\n",
       "      <td>0</td>\n",
       "      <td>A</td>\n",
       "    </tr>\n",
       "    <tr>\n",
       "      <th>27</th>\n",
       "      <td>1</td>\n",
       "      <td>144316</td>\n",
       "      <td>66</td>\n",
       "      <td>6</td>\n",
       "      <td>650622.0</td>\n",
       "      <td>673</td>\n",
       "      <td>4</td>\n",
       "      <td>very_unsat</td>\n",
       "      <td>no</td>\n",
       "      <td>0</td>\n",
       "      <td>A</td>\n",
       "    </tr>\n",
       "    <tr>\n",
       "      <th>40</th>\n",
       "      <td>1</td>\n",
       "      <td>140116</td>\n",
       "      <td>158</td>\n",
       "      <td>22</td>\n",
       "      <td>382210.0</td>\n",
       "      <td>405</td>\n",
       "      <td>14</td>\n",
       "      <td>very_sat</td>\n",
       "      <td>considering</td>\n",
       "      <td>1</td>\n",
       "      <td>A</td>\n",
       "    </tr>\n",
       "    <tr>\n",
       "      <th>41</th>\n",
       "      <td>1</td>\n",
       "      <td>149029</td>\n",
       "      <td>0</td>\n",
       "      <td>18</td>\n",
       "      <td>677583.0</td>\n",
       "      <td>837</td>\n",
       "      <td>5</td>\n",
       "      <td>very_unsat</td>\n",
       "      <td>no</td>\n",
       "      <td>0</td>\n",
       "      <td>A</td>\n",
       "    </tr>\n",
       "    <tr>\n",
       "      <th>44</th>\n",
       "      <td>1</td>\n",
       "      <td>134697</td>\n",
       "      <td>0</td>\n",
       "      <td>0</td>\n",
       "      <td>370297.0</td>\n",
       "      <td>454</td>\n",
       "      <td>2</td>\n",
       "      <td>very_unsat</td>\n",
       "      <td>considering</td>\n",
       "      <td>1</td>\n",
       "      <td>A</td>\n",
       "    </tr>\n",
       "    <tr>\n",
       "      <th>52</th>\n",
       "      <td>1</td>\n",
       "      <td>135755</td>\n",
       "      <td>0</td>\n",
       "      <td>0</td>\n",
       "      <td>377016.0</td>\n",
       "      <td>535</td>\n",
       "      <td>14</td>\n",
       "      <td>very_unsat</td>\n",
       "      <td>considering</td>\n",
       "      <td>0</td>\n",
       "      <td>A</td>\n",
       "    </tr>\n",
       "    <tr>\n",
       "      <th>57</th>\n",
       "      <td>1</td>\n",
       "      <td>136294</td>\n",
       "      <td>0</td>\n",
       "      <td>17</td>\n",
       "      <td>231277.0</td>\n",
       "      <td>722</td>\n",
       "      <td>2</td>\n",
       "      <td>unsat</td>\n",
       "      <td>actively_looking_into_it</td>\n",
       "      <td>0</td>\n",
       "      <td>A</td>\n",
       "    </tr>\n",
       "    <tr>\n",
       "      <th>64</th>\n",
       "      <td>0</td>\n",
       "      <td>155349</td>\n",
       "      <td>0</td>\n",
       "      <td>80</td>\n",
       "      <td>439967.0</td>\n",
       "      <td>750</td>\n",
       "      <td>1</td>\n",
       "      <td>unsat</td>\n",
       "      <td>actively_looking_into_it</td>\n",
       "      <td>1</td>\n",
       "      <td>A</td>\n",
       "    </tr>\n",
       "    <tr>\n",
       "      <th>67</th>\n",
       "      <td>0</td>\n",
       "      <td>138313</td>\n",
       "      <td>101</td>\n",
       "      <td>0</td>\n",
       "      <td>918147.0</td>\n",
       "      <td>403</td>\n",
       "      <td>11</td>\n",
       "      <td>avg</td>\n",
       "      <td>actively_looking_into_it</td>\n",
       "      <td>0</td>\n",
       "      <td>A</td>\n",
       "    </tr>\n",
       "    <tr>\n",
       "      <th>71</th>\n",
       "      <td>0</td>\n",
       "      <td>136220</td>\n",
       "      <td>90</td>\n",
       "      <td>58</td>\n",
       "      <td>171255.0</td>\n",
       "      <td>471</td>\n",
       "      <td>1</td>\n",
       "      <td>sat</td>\n",
       "      <td>no</td>\n",
       "      <td>1</td>\n",
       "      <td>A</td>\n",
       "    </tr>\n",
       "    <tr>\n",
       "      <th>73</th>\n",
       "      <td>1</td>\n",
       "      <td>155563</td>\n",
       "      <td>167</td>\n",
       "      <td>36</td>\n",
       "      <td>437197.0</td>\n",
       "      <td>590</td>\n",
       "      <td>2</td>\n",
       "      <td>sat</td>\n",
       "      <td>considering</td>\n",
       "      <td>1</td>\n",
       "      <td>A</td>\n",
       "    </tr>\n",
       "    <tr>\n",
       "      <th>76</th>\n",
       "      <td>0</td>\n",
       "      <td>147685</td>\n",
       "      <td>54</td>\n",
       "      <td>0</td>\n",
       "      <td>939222.0</td>\n",
       "      <td>810</td>\n",
       "      <td>8</td>\n",
       "      <td>very_sat</td>\n",
       "      <td>perhaps</td>\n",
       "      <td>0</td>\n",
       "      <td>A</td>\n",
       "    </tr>\n",
       "    <tr>\n",
       "      <th>94</th>\n",
       "      <td>1</td>\n",
       "      <td>149681</td>\n",
       "      <td>219</td>\n",
       "      <td>27</td>\n",
       "      <td>606971.0</td>\n",
       "      <td>722</td>\n",
       "      <td>1</td>\n",
       "      <td>very_unsat</td>\n",
       "      <td>considering</td>\n",
       "      <td>0</td>\n",
       "      <td>A</td>\n",
       "    </tr>\n",
       "    <tr>\n",
       "      <th>97</th>\n",
       "      <td>0</td>\n",
       "      <td>136803</td>\n",
       "      <td>174</td>\n",
       "      <td>23</td>\n",
       "      <td>437576.0</td>\n",
       "      <td>143</td>\n",
       "      <td>5</td>\n",
       "      <td>avg</td>\n",
       "      <td>no</td>\n",
       "      <td>1</td>\n",
       "      <td>A</td>\n",
       "    </tr>\n",
       "    <tr>\n",
       "      <th>99</th>\n",
       "      <td>0</td>\n",
       "      <td>151957</td>\n",
       "      <td>223</td>\n",
       "      <td>22</td>\n",
       "      <td>183836.0</td>\n",
       "      <td>721</td>\n",
       "      <td>4</td>\n",
       "      <td>very_unsat</td>\n",
       "      <td>considering</td>\n",
       "      <td>1</td>\n",
       "      <td>A</td>\n",
       "    </tr>\n",
       "    <tr>\n",
       "      <th>105</th>\n",
       "      <td>1</td>\n",
       "      <td>157632</td>\n",
       "      <td>230</td>\n",
       "      <td>29</td>\n",
       "      <td>868015.0</td>\n",
       "      <td>839</td>\n",
       "      <td>6</td>\n",
       "      <td>unsat</td>\n",
       "      <td>never_thought</td>\n",
       "      <td>1</td>\n",
       "      <td>A</td>\n",
       "    </tr>\n",
       "    <tr>\n",
       "      <th>117</th>\n",
       "      <td>1</td>\n",
       "      <td>154470</td>\n",
       "      <td>68</td>\n",
       "      <td>0</td>\n",
       "      <td>348440.0</td>\n",
       "      <td>739</td>\n",
       "      <td>9</td>\n",
       "      <td>very_sat</td>\n",
       "      <td>actively_looking_into_it</td>\n",
       "      <td>1</td>\n",
       "      <td>A</td>\n",
       "    </tr>\n",
       "    <tr>\n",
       "      <th>122</th>\n",
       "      <td>1</td>\n",
       "      <td>135177</td>\n",
       "      <td>38</td>\n",
       "      <td>0</td>\n",
       "      <td>214228.0</td>\n",
       "      <td>703</td>\n",
       "      <td>15</td>\n",
       "      <td>very_sat</td>\n",
       "      <td>never_thought</td>\n",
       "      <td>1</td>\n",
       "      <td>A</td>\n",
       "    </tr>\n",
       "    <tr>\n",
       "      <th>126</th>\n",
       "      <td>0</td>\n",
       "      <td>132408</td>\n",
       "      <td>0</td>\n",
       "      <td>0</td>\n",
       "      <td>655271.0</td>\n",
       "      <td>524</td>\n",
       "      <td>9</td>\n",
       "      <td>very_unsat</td>\n",
       "      <td>actively_looking_into_it</td>\n",
       "      <td>1</td>\n",
       "      <td>A</td>\n",
       "    </tr>\n",
       "    <tr>\n",
       "      <th>165</th>\n",
       "      <td>1</td>\n",
       "      <td>139961</td>\n",
       "      <td>149</td>\n",
       "      <td>43</td>\n",
       "      <td>297754.0</td>\n",
       "      <td>822</td>\n",
       "      <td>2</td>\n",
       "      <td>very_sat</td>\n",
       "      <td>considering</td>\n",
       "      <td>1</td>\n",
       "      <td>A</td>\n",
       "    </tr>\n",
       "    <tr>\n",
       "      <th>172</th>\n",
       "      <td>0</td>\n",
       "      <td>153303</td>\n",
       "      <td>57</td>\n",
       "      <td>5</td>\n",
       "      <td>812840.0</td>\n",
       "      <td>899</td>\n",
       "      <td>5</td>\n",
       "      <td>unsat</td>\n",
       "      <td>actively_looking_into_it</td>\n",
       "      <td>0</td>\n",
       "      <td>A</td>\n",
       "    </tr>\n",
       "    <tr>\n",
       "      <th>174</th>\n",
       "      <td>0</td>\n",
       "      <td>132305</td>\n",
       "      <td>180</td>\n",
       "      <td>0</td>\n",
       "      <td>801996.0</td>\n",
       "      <td>742</td>\n",
       "      <td>11</td>\n",
       "      <td>avg</td>\n",
       "      <td>no</td>\n",
       "      <td>1</td>\n",
       "      <td>A</td>\n",
       "    </tr>\n",
       "    <tr>\n",
       "      <th>186</th>\n",
       "      <td>0</td>\n",
       "      <td>144306</td>\n",
       "      <td>213</td>\n",
       "      <td>58</td>\n",
       "      <td>176213.0</td>\n",
       "      <td>899</td>\n",
       "      <td>2</td>\n",
       "      <td>avg</td>\n",
       "      <td>no</td>\n",
       "      <td>1</td>\n",
       "      <td>A</td>\n",
       "    </tr>\n",
       "    <tr>\n",
       "      <th>207</th>\n",
       "      <td>1</td>\n",
       "      <td>144835</td>\n",
       "      <td>193</td>\n",
       "      <td>17</td>\n",
       "      <td>180698.0</td>\n",
       "      <td>677</td>\n",
       "      <td>4</td>\n",
       "      <td>avg</td>\n",
       "      <td>considering</td>\n",
       "      <td>0</td>\n",
       "      <td>A</td>\n",
       "    </tr>\n",
       "    <tr>\n",
       "      <th>209</th>\n",
       "      <td>1</td>\n",
       "      <td>156793</td>\n",
       "      <td>180</td>\n",
       "      <td>35</td>\n",
       "      <td>464625.0</td>\n",
       "      <td>876</td>\n",
       "      <td>1</td>\n",
       "      <td>very_unsat</td>\n",
       "      <td>actively_looking_into_it</td>\n",
       "      <td>1</td>\n",
       "      <td>A</td>\n",
       "    </tr>\n",
       "  </tbody>\n",
       "</table>\n",
       "</div>"
      ],
      "text/plain": [
       "     COLLEGE  INCOME  OVERAGE  LEFTOVER     HOUSE  HANDSET_PRICE  \\\n",
       "2          1  150419        0        14  204004.0            682   \n",
       "3          0  159567        0        58  281969.0            634   \n",
       "8          1  133496      163        11  166179.0            864   \n",
       "9          1  155145       29        18  717451.0            671   \n",
       "21         1  151060       23        55  356870.0            517   \n",
       "24         0  144913        0        15  310943.0            768   \n",
       "27         1  144316       66         6  650622.0            673   \n",
       "40         1  140116      158        22  382210.0            405   \n",
       "41         1  149029        0        18  677583.0            837   \n",
       "44         1  134697        0         0  370297.0            454   \n",
       "52         1  135755        0         0  377016.0            535   \n",
       "57         1  136294        0        17  231277.0            722   \n",
       "64         0  155349        0        80  439967.0            750   \n",
       "67         0  138313      101         0  918147.0            403   \n",
       "71         0  136220       90        58  171255.0            471   \n",
       "73         1  155563      167        36  437197.0            590   \n",
       "76         0  147685       54         0  939222.0            810   \n",
       "94         1  149681      219        27  606971.0            722   \n",
       "97         0  136803      174        23  437576.0            143   \n",
       "99         0  151957      223        22  183836.0            721   \n",
       "105        1  157632      230        29  868015.0            839   \n",
       "117        1  154470       68         0  348440.0            739   \n",
       "122        1  135177       38         0  214228.0            703   \n",
       "126        0  132408        0         0  655271.0            524   \n",
       "165        1  139961      149        43  297754.0            822   \n",
       "172        0  153303       57         5  812840.0            899   \n",
       "174        0  132305      180         0  801996.0            742   \n",
       "186        0  144306      213        58  176213.0            899   \n",
       "207        1  144835      193        17  180698.0            677   \n",
       "209        1  156793      180        35  464625.0            876   \n",
       "\n",
       "     AVERAGE_CALL_DURATION REPORTED_SATISFACTION CONSIDERING_CHANGE_OF_PLAN  \\\n",
       "2                        6                 unsat                considering   \n",
       "3                        1            very_unsat              never_thought   \n",
       "8                        5                   NaN   actively_looking_into_it   \n",
       "9                        4                 unsat                considering   \n",
       "21                       1                   avg                         no   \n",
       "24                       6                   avg                         no   \n",
       "27                       4            very_unsat                         no   \n",
       "40                      14              very_sat                considering   \n",
       "41                       5            very_unsat                         no   \n",
       "44                       2            very_unsat                considering   \n",
       "52                      14            very_unsat                considering   \n",
       "57                       2                 unsat   actively_looking_into_it   \n",
       "64                       1                 unsat   actively_looking_into_it   \n",
       "67                      11                   avg   actively_looking_into_it   \n",
       "71                       1                   sat                         no   \n",
       "73                       2                   sat                considering   \n",
       "76                       8              very_sat                    perhaps   \n",
       "94                       1            very_unsat                considering   \n",
       "97                       5                   avg                         no   \n",
       "99                       4            very_unsat                considering   \n",
       "105                      6                 unsat              never_thought   \n",
       "117                      9              very_sat   actively_looking_into_it   \n",
       "122                     15              very_sat              never_thought   \n",
       "126                      9            very_unsat   actively_looking_into_it   \n",
       "165                      2              very_sat                considering   \n",
       "172                      5                 unsat   actively_looking_into_it   \n",
       "174                     11                   avg                         no   \n",
       "186                      2                   avg                         no   \n",
       "207                      4                   avg                considering   \n",
       "209                      1            very_unsat   actively_looking_into_it   \n",
       "\n",
       "     CHURN RICH  \n",
       "2        0    A  \n",
       "3        0    A  \n",
       "8        1    A  \n",
       "9        0    A  \n",
       "21       1    A  \n",
       "24       0    A  \n",
       "27       0    A  \n",
       "40       1    A  \n",
       "41       0    A  \n",
       "44       1    A  \n",
       "52       0    A  \n",
       "57       0    A  \n",
       "64       1    A  \n",
       "67       0    A  \n",
       "71       1    A  \n",
       "73       1    A  \n",
       "76       0    A  \n",
       "94       0    A  \n",
       "97       1    A  \n",
       "99       1    A  \n",
       "105      1    A  \n",
       "117      1    A  \n",
       "122      1    A  \n",
       "126      1    A  \n",
       "165      1    A  \n",
       "172      0    A  \n",
       "174      1    A  \n",
       "186      1    A  \n",
       "207      0    A  \n",
       "209      1    A  "
      ]
     },
     "execution_count": 22,
     "metadata": {},
     "output_type": "execute_result"
    }
   ],
   "source": [
    "mobile.loc[(mobile['RICH'] == 'A')].head(30)"
   ]
  },
  {
   "cell_type": "code",
   "execution_count": 23,
   "metadata": {},
   "outputs": [
    {
     "data": {
      "image/png": "[encoded data removed]",
      "text/plain": [
       "<Figure size 432x288 with 1 Axes>"
      ]
     },
     "metadata": {
      "needs_background": "light"
     },
     "output_type": "display_data"
    }
   ],
   "source": [
    "sns.histplot(x='RICH', data = mobile, hue = 'CHURN')\n",
    "\n",
    "plt.show()"
   ]
  },
  {
   "cell_type": "code",
   "execution_count": 22,
   "metadata": {},
   "outputs": [
    {
     "name": "stdout",
     "output_type": "stream",
     "text": [
      "COLLEGE                       0.502722\n",
      "INCOME                    80314.400278\n",
      "OVERAGE                      86.014833\n",
      "LEFTOVER                     23.995500\n",
      "HOUSE                    492950.532696\n",
      "HANDSET_PRICE               390.096667\n",
      "AVERAGE_CALL_DURATION         5.990944\n",
      "CHURN                         0.492722\n",
      "dtype: float64\n"
     ]
    }
   ],
   "source": [
    "print(np.mean(mobile, axis = 0))"
   ]
  },
  {
   "cell_type": "markdown",
   "metadata": {},
   "source": [
    "* 돈이 많고, 핸드폰을 비싼 것을 써도 만족하지는 않는 편이다.\n",
    "* 하지만, 밑에 결과와 같이 연봉과 싼 휴대폰을 쓸 경우가 이탈률이 높았다."
   ]
  },
  {
   "cell_type": "markdown",
   "metadata": {
    "id": "wv6nX82-ZIG4"
   },
   "source": [
    "#### 4) feature --> CHURN\n"
   ]
  },
  {
   "cell_type": "markdown",
   "metadata": {
    "id": "Jd4WbbU-jqU3"
   },
   "source": [
    "## 4.관계 정리"
   ]
  },
  {
   "cell_type": "markdown",
   "metadata": {
    "id": "bKmN0rtAjto6"
   },
   "source": [
    "### 1) 강한관계의 변수"
   ]
  },
  {
   "cell_type": "code",
   "execution_count": null,
   "metadata": {
    "id": "lx6Np73PL0YS"
   },
   "outputs": [],
   "source": [
    "INCOME, HANDSET_PRICE , OVERAGE"
   ]
  },
  {
   "cell_type": "markdown",
   "metadata": {
    "id": "u8B765zNjwp5"
   },
   "source": [
    "### 2) 약한관계의 변수"
   ]
  },
  {
   "cell_type": "code",
   "execution_count": null,
   "metadata": {
    "id": "kg8-QylzL1kE"
   },
   "outputs": [],
   "source": [
    "COLLEGE"
   ]
  },
  {
   "cell_type": "markdown",
   "metadata": {
    "id": "eYiQ9OUijwdq"
   },
   "source": [
    "### 3) 관계 없음"
   ]
  },
  {
   "cell_type": "code",
   "execution_count": null,
   "metadata": {
    "id": "K0o6lwH5L2Wj"
   },
   "outputs": [],
   "source": [
    "CONSIDERING_CHANGE_OF_PLAN , REPORTED_SATISFACTION"
   ]
  }
 ],
 "metadata": {
  "colab": {
   "collapsed_sections": [
    "bdWZCugILZAz",
    "6ks7Mts5ZOIO",
    "KkyjTXOqLsyK",
    "wv6nX82-ZIG4"
   ],
   "name": "과제2. Mobile 고객 이탈 분석.ipynb",
   "provenance": []
  },
  "kernelspec": {
   "display_name": "Python 3 (ipykernel)",
   "language": "python",
   "name": "python3"
  },
  "language_info": {
   "codemirror_mode": {
    "name": "ipython",
    "version": 3
   },
   "file_extension": ".py",
   "mimetype": "text/x-python",
   "name": "python",
   "nbconvert_exporter": "python",
   "pygments_lexer": "ipython3",
   "version": "3.9.10"
  }
 },
 "nbformat": 4,
 "nbformat_minor": 1
}
